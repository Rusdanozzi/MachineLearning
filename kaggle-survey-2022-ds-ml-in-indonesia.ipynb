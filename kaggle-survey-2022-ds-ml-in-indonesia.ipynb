{
 "cells": [
  {
   "cell_type": "markdown",
   "metadata": {
    "papermill": {
     "duration": 0.026716,
     "end_time": "2022-09-28T17:20:48.644909",
     "exception": false,
     "start_time": "2022-09-28T17:20:48.618193",
     "status": "completed"
    },
    "tags": []
   },
   "source": [
    "# 2022 Kaggle Data Science & Machine Learning Survey\n",
    "\n",
    "Welcome to my analysis about 2022 Kaggle Data Science & Machine Learning Survey. In this moment, I will focus on all answers of Kaggle Community from Indonesia. Feel free to explore it. :)"
   ]
  },
  {
   "cell_type": "markdown",
   "metadata": {
    "papermill": {
     "duration": 0.021571,
     "end_time": "2022-09-28T17:20:48.688648",
     "exception": false,
     "start_time": "2022-09-28T17:20:48.667077",
     "status": "completed"
    },
    "tags": []
   },
   "source": [
    "# *Step 1: Import Python libraries*"
   ]
  },
  {
   "cell_type": "code",
   "execution_count": 1,
   "metadata": {
    "_kg_hide-input": true,
    "execution": {
     "iopub.execute_input": "2023-01-26T04:46:56.177555Z",
     "iopub.status.busy": "2023-01-26T04:46:56.176987Z",
     "iopub.status.idle": "2023-01-26T04:46:58.252212Z",
     "shell.execute_reply": "2023-01-26T04:46:58.251197Z",
     "shell.execute_reply.started": "2023-01-26T04:46:56.177472Z"
    },
    "papermill": {
     "duration": 2.331679,
     "end_time": "2022-09-28T17:20:51.042024",
     "exception": false,
     "start_time": "2022-09-28T17:20:48.710345",
     "status": "completed"
    },
    "tags": []
   },
   "outputs": [
    {
     "ename": "ModuleNotFoundError",
     "evalue": "No module named 'seaborn'",
     "output_type": "error",
     "traceback": [
      "\u001b[1;31m---------------------------------------------------------------------------\u001b[0m",
      "\u001b[1;31mModuleNotFoundError\u001b[0m                       Traceback (most recent call last)",
      "Cell \u001b[1;32mIn[1], line 5\u001b[0m\n\u001b[0;32m      3\u001b[0m \u001b[38;5;28;01mimport\u001b[39;00m \u001b[38;5;21;01mnumpy\u001b[39;00m \u001b[38;5;28;01mas\u001b[39;00m \u001b[38;5;21;01mnp\u001b[39;00m \n\u001b[0;32m      4\u001b[0m \u001b[38;5;28;01mimport\u001b[39;00m \u001b[38;5;21;01mpandas\u001b[39;00m \u001b[38;5;28;01mas\u001b[39;00m \u001b[38;5;21;01mpd\u001b[39;00m \n\u001b[1;32m----> 5\u001b[0m \u001b[38;5;28;01mimport\u001b[39;00m \u001b[38;5;21;01mseaborn\u001b[39;00m \u001b[38;5;28;01mas\u001b[39;00m \u001b[38;5;21;01msns\u001b[39;00m\n\u001b[0;32m      6\u001b[0m \u001b[38;5;28;01mimport\u001b[39;00m \u001b[38;5;21;01mplotly\u001b[39;00m\u001b[38;5;21;01m.\u001b[39;00m\u001b[38;5;21;01mexpress\u001b[39;00m \u001b[38;5;28;01mas\u001b[39;00m \u001b[38;5;21;01mpx\u001b[39;00m\n\u001b[0;32m      7\u001b[0m \u001b[38;5;28;01mimport\u001b[39;00m \u001b[38;5;21;01mplotly\u001b[39;00m\u001b[38;5;21;01m.\u001b[39;00m\u001b[38;5;21;01mgraph_objects\u001b[39;00m \u001b[38;5;28;01mas\u001b[39;00m \u001b[38;5;21;01mgo\u001b[39;00m\n",
      "\u001b[1;31mModuleNotFoundError\u001b[0m: No module named 'seaborn'"
     ]
    }
   ],
   "source": [
    "import os\n",
    "import glob\n",
    "import numpy as np \n",
    "import pandas as pd \n",
    "import seaborn as sns\n",
    "import plotly.express as px\n",
    "import plotly.graph_objects as go\n",
    "import warnings\n",
    "warnings.filterwarnings(\"ignore\")\n",
    "pd.set_option('display.max_columns', 5000)"
   ]
  },
  {
   "cell_type": "markdown",
   "metadata": {
    "papermill": {
     "duration": 0.021799,
     "end_time": "2022-09-28T17:20:51.086513",
     "exception": false,
     "start_time": "2022-09-28T17:20:51.064714",
     "status": "completed"
    },
    "tags": []
   },
   "source": [
    "# *Step 2: Define helper functions*"
   ]
  },
  {
   "cell_type": "code",
   "execution_count": 2,
   "metadata": {
    "_kg_hide-input": true,
    "execution": {
     "iopub.execute_input": "2022-11-26T01:54:49.955945Z",
     "iopub.status.busy": "2022-11-26T01:54:49.955513Z",
     "iopub.status.idle": "2022-11-26T01:54:49.980945Z",
     "shell.execute_reply": "2022-11-26T01:54:49.979531Z",
     "shell.execute_reply.started": "2022-11-26T01:54:49.955911Z"
    },
    "papermill": {
     "duration": 0.046358,
     "end_time": "2022-09-28T17:20:51.155214",
     "exception": false,
     "start_time": "2022-09-28T17:20:51.108856",
     "status": "completed"
    },
    "tags": []
   },
   "outputs": [
    {
     "name": "stderr",
     "output_type": "stream",
     "text": [
      "<>:24: SyntaxWarning: \"is\" with a literal. Did you mean \"==\"?\n",
      "<>:24: SyntaxWarning: \"is\" with a literal. Did you mean \"==\"?\n",
      "C:\\Users\\PC\\AppData\\Local\\Temp\\ipykernel_14424\\1570305635.py:24: SyntaxWarning: \"is\" with a literal. Did you mean \"==\"?\n",
      "  if orientation is 'v':\n"
     ]
    }
   ],
   "source": [
    "def bar_chart_multiple_choice(response_counts,title,y_axis_title,orientation='h',num_choices=15): \n",
    "    response_counts_series = pd.Series(response_counts)\n",
    "    response_counts_series.index.name = ''\n",
    "    pd.DataFrame(response_counts_series).to_csv('F:/Referensi LCA/Python/dataset/working/individual/data/'+title+'.csv',index=True)\n",
    "    fig = px.bar(response_counts_series,\n",
    "             labels={\"\": '',\"value\": y_axis_title},\n",
    "             text=response_counts_series.values,\n",
    "             orientation=orientation,)\n",
    "    fig.update_layout(showlegend=False,\n",
    "                      title={'text': title+' in 2022',\n",
    "                             'y':0.95,\n",
    "                             'x':0.5,},\n",
    "                      xaxis_range=[0,max(response_counts_series[0:num_choices]*1.2)])\n",
    "    fig.write_html('F:/Referensi LCA/Python/dataset/working/individual/charts/'+title+'.html')\n",
    "    fig.show()\n",
    "    \n",
    "    \n",
    "def bar_chart_multiple_choice_multiple_selection(df,title,orientation='v'):  \n",
    "    df_new = df.copy()\n",
    "    counts = df_new[df_new.columns[:]].count().sort_values(ascending=True)\n",
    "    percentages = counts*100/len(df_new)\n",
    "    percentages.index.name = ''\n",
    "    percentages.to_csv('F:/Referensi LCA/Python/dataset/working/individual/data/'+title+'.csv',index=True)\n",
    "    if orientation is 'v':\n",
    "        fig = px.bar(percentages,text=np.round(percentages.values,1),orientation=orientation)\n",
    "        fig.update_layout(\n",
    "            title=title+' in 2022',\n",
    "            yaxis_title='% of respondents',\n",
    "            showlegend=False)\n",
    "        fig.write_html('F:/Referensi LCA/Python/dataset/working/individual/charts/'+title+'.html')\n",
    "        fig.show()\n",
    "    else:\n",
    "        fig = px.bar(percentages,text=np.round(percentages.values,1),orientation=orientation)\n",
    "        fig.update_layout(\n",
    "            title=title+' in 2022',\n",
    "            xaxis_title='% of respondents',\n",
    "            showlegend=False)\n",
    "        fig.write_html('F:/Referensi LCA/Python/dataset/working/individual/charts/'+title+'.html')\n",
    "        fig.show()    \n",
    "\n",
    "def bar_chart_multiple_years(df,x_column,y_column,title,y_axis_title):\n",
    "    df.to_csv('F:/Referensi LCA/Python/dataset/working/individual/data/'+title+'.csv',index=True)\n",
    "    fig = px.histogram(df, x= x_column, y = y_column,barmode='group',color='year',orientation='v',\n",
    "    template='ggplot2',\n",
    "    color_discrete_map={\n",
    "        '2017': px.colors.sequential.Blues[2],\n",
    "        '2018': px.colors.sequential.Blues[3],\n",
    "        '2019': px.colors.sequential.Blues[4],\n",
    "        '2020': px.colors.sequential.Blues[5],\n",
    "        '2021': px.colors.sequential.Blues[7],\n",
    "        '2022': px.colors.sequential.Blues[8]})\n",
    "    fig.update_layout(title=title_for_chart,yaxis=dict(title=title_for_y_axis))\n",
    "    fig.update_layout(legend=dict(yanchor=\"auto\",y=0))\n",
    "    fig.write_html('F:/Referensi LCA/Python/dataset/working/individual/charts/'+title+'.html')\n",
    "    fig.show()\n",
    "\n",
    "\n",
    "def create_choropleth_map(df, column, title, max_value):\n",
    "    df.to_csv('F:/Referensi LCA/Python/dataset/working/individual/data/'+title+'.csv',index=True)\n",
    "    fig = px.choropleth(df, \n",
    "                    locations = 'country',  \n",
    "                    color = column,\n",
    "                    locationmode = 'country names', \n",
    "                    color_continuous_scale = 'viridis',\n",
    "                    title = title,\n",
    "                    range_color = [0, max_value])\n",
    "    fig.update(layout=dict(title=dict(x=0.5)))\n",
    "    fig.write_html('F:/Referensi LCA/Python/dataset/working/individual/charts/'+title+'.html')\n",
    "    fig.show()"
   ]
  },
  {
   "cell_type": "code",
   "execution_count": 3,
   "metadata": {
    "_kg_hide-input": true,
    "execution": {
     "iopub.execute_input": "2022-11-26T01:54:54.817857Z",
     "iopub.status.busy": "2022-11-26T01:54:54.817322Z",
     "iopub.status.idle": "2022-11-26T01:54:54.843648Z",
     "shell.execute_reply": "2022-11-26T01:54:54.841778Z",
     "shell.execute_reply.started": "2022-11-26T01:54:54.817794Z"
    },
    "papermill": {
     "duration": 0.042847,
     "end_time": "2022-09-28T17:20:51.221289",
     "exception": false,
     "start_time": "2022-09-28T17:20:51.178442",
     "status": "completed"
    },
    "tags": []
   },
   "outputs": [],
   "source": [
    "def grab_subset_of_data(original_df, question_of_interest):\n",
    "    # adapted from https://www.kaggle.com/siddhantsadangi/your-country-vs-the-world-24-factors-wip\n",
    "    new_df = original_df.copy()\n",
    "    subset_of_columns = [col for col in new_df.columns if question_of_interest in col]\n",
    "    mapper = [col.split('-')[-1].lstrip() for col in subset_of_columns]\n",
    "    mapping_dict = dict(zip(subset_of_columns,mapper))\n",
    "    new_df = new_df[subset_of_columns].rename(columns=mapping_dict)\n",
    "    new_df.dropna(how='all', subset=mapper, inplace=True)\n",
    "    return new_df\n",
    "\n",
    "def create_dataframe_of_counts(dataframe,column,rename_index,rename_column,return_percentages=False): \n",
    "    df = dataframe[column].value_counts().reset_index() \n",
    "    if return_percentages==True:\n",
    "        df[column] = (df[column]*100)/(df[column].sum())\n",
    "    df = pd.DataFrame(df) \n",
    "    df = df.rename({'index':rename_index, column:rename_column}, axis='columns')\n",
    "    return df\n",
    "\n",
    "def count_then_return_percent(dataframe,x_axis_title): \n",
    "    counts = dataframe[x_axis_title].value_counts(dropna=False)\n",
    "    percentages = round(counts*100/(dataframe[x_axis_title].count()),1)\n",
    "    return percentages\n",
    "\n",
    "def add_year_column_to_dataframes(df_2022,df_2021,df_2020,df_2019,df_2018,df_2017=None):\n",
    "    if df_2017 is not None:\n",
    "        df_2022['year'] = '2022'\n",
    "        df_2021['year'] = '2021'\n",
    "        df_2020['year'] = '2020'\n",
    "        df_2019['year'] = '2019'\n",
    "        df_2018['year'] = '2018'\n",
    "        df_2017['year'] = '2017'\n",
    "        return df_2017,df_2018,df_2019,df_2020,df_2021,df_2022\n",
    "    else:\n",
    "        df_2022['year'] = '2022'\n",
    "        df_2021['year'] = '2021'\n",
    "        df_2020['year'] = '2020'\n",
    "        df_2019['year'] = '2019'\n",
    "        df_2018['year'] = '2018'\n",
    "        return df_2018,df_2019,df_2020,df_2021,df_2022\n",
    "\n",
    "def convert_df_of_counts_to_percentages(df,df_counts): \n",
    "    df_combined_percentages = df_counts.copy().astype(int)\n",
    "    df_combined_percentages[0:1] = df_combined_percentages[0:1]*100/df['year'].eq('2018').sum()\n",
    "    df_combined_percentages[1:2] = df_combined_percentages[1:2]*100/df['year'].eq('2019').sum()\n",
    "    df_combined_percentages[2:3] = df_combined_percentages[2:3]*100/df['year'].eq('2020').sum()\n",
    "    df_combined_percentages[3:4] = df_combined_percentages[3:4]*100/df['year'].eq('2021').sum()\n",
    "    df_combined_percentages[4:5] = df_combined_percentages[4:5]*100/df['year'].eq('2022').sum()\n",
    "    df_combined_percentages['year'] = ['2018','2019','2020','2021','2022']\n",
    "    return df_combined_percentages"
   ]
  },
  {
   "cell_type": "code",
   "execution_count": 4,
   "metadata": {
    "_kg_hide-input": true,
    "execution": {
     "iopub.execute_input": "2022-11-26T01:54:59.363365Z",
     "iopub.status.busy": "2022-11-26T01:54:59.362925Z",
     "iopub.status.idle": "2022-11-26T01:54:59.384552Z",
     "shell.execute_reply": "2022-11-26T01:54:59.383498Z",
     "shell.execute_reply.started": "2022-11-26T01:54:59.363309Z"
    },
    "papermill": {
     "duration": 0.04621,
     "end_time": "2022-09-28T17:20:51.288964",
     "exception": false,
     "start_time": "2022-09-28T17:20:51.242754",
     "status": "completed"
    },
    "tags": []
   },
   "outputs": [],
   "source": [
    "def combine_subset_of_data_from_multiple_years(question_of_interest,x_axis_title,include_2017=None): \n",
    "    if include_2017 is not None:\n",
    "        question_of_interest = question_of_interest\n",
    "        df_2022 = pd.DataFrame(count_then_return_percent(responses_df_2022,question_of_interest).sort_index())\n",
    "        df_2021 = pd.DataFrame(count_then_return_percent(responses_df_2021,question_of_interest).sort_index())\n",
    "        df_2020 = pd.DataFrame(count_then_return_percent(responses_df_2020,question_of_interest).sort_index())\n",
    "        df_2019 = pd.DataFrame(count_then_return_percent(responses_df_2019,question_of_interest).sort_index())\n",
    "        df_2018 = pd.DataFrame(count_then_return_percent(responses_df_2018,question_of_interest).sort_index())\n",
    "        df_2017 = pd.DataFrame(count_then_return_percent(responses_df_2017,question_of_interest).sort_index())\n",
    "\n",
    "        add_year_column_to_dataframes(\n",
    "            df_2022,\n",
    "            df_2021,\n",
    "            df_2020,\n",
    "            df_2019,\n",
    "            df_2018,\n",
    "            df_2017)\n",
    "\n",
    "        df_combined = pd.concat(\n",
    "            [df_2017,\n",
    "            df_2018,\n",
    "            df_2019,\n",
    "            df_2020,\n",
    "            df_2021,\n",
    "            df_2022])\n",
    "\n",
    "        df_combined[x_axis_title] = df_combined.index\n",
    "        df_combined.columns = ['percentage','year',x_axis_title]\n",
    "        return df_combined\n",
    "    else:\n",
    "        question_of_interest = question_of_interest\n",
    "        df_2022 = pd.DataFrame(count_then_return_percent(responses_df_2022,question_of_interest).sort_index())\n",
    "        df_2021 = pd.DataFrame(count_then_return_percent(responses_df_2021,question_of_interest).sort_index())\n",
    "        df_2020 = pd.DataFrame(count_then_return_percent(responses_df_2020,question_of_interest).sort_index())\n",
    "        df_2019 = pd.DataFrame(count_then_return_percent(responses_df_2019,question_of_interest).sort_index())\n",
    "        df_2018 = pd.DataFrame(count_then_return_percent(responses_df_2018,question_of_interest).sort_index())\n",
    "\n",
    "        add_year_column_to_dataframes(\n",
    "            df_2022,\n",
    "            df_2021,\n",
    "            df_2020,\n",
    "            df_2019,\n",
    "            df_2018)\n",
    "\n",
    "        df_combined = pd.concat(\n",
    "            [df_2018,\n",
    "            df_2019,\n",
    "            df_2020,\n",
    "            df_2021,\n",
    "            df_2022])\n",
    "\n",
    "        df_combined[x_axis_title] = df_combined.index\n",
    "        df_combined.columns = ['percentage','year',x_axis_title]\n",
    "        return df_combined        \n",
    "    \n",
    "    \n",
    "\n",
    "def combine_subset_of_data_from_multiple_years_for_multiple_choice_multiple_response_questions(question_of_interest,include_2017=None): \n",
    "    if include_2017 is None:\n",
    "        question_of_interest = question_of_interest\n",
    "        df_2022 = grab_subset_of_data(responses_df_2022, question_of_interest)\n",
    "        df_2021 = grab_subset_of_data(responses_df_2021, question_of_interest)\n",
    "        df_2020 = grab_subset_of_data(responses_df_2020, question_of_interest)\n",
    "        df_2019 = grab_subset_of_data(responses_df_2019, question_of_interest)\n",
    "        df_2018 = grab_subset_of_data(responses_df_2018, question_of_interest)\n",
    "\n",
    "        add_year_column_to_dataframes(\n",
    "            df_2022,\n",
    "            df_2021,\n",
    "            df_2020,\n",
    "            df_2019,\n",
    "            df_2018)\n",
    "\n",
    "        df_combined = pd.concat(\n",
    "            [df_2018,\n",
    "            df_2019,\n",
    "            df_2020,\n",
    "            df_2021,\n",
    "            df_2022])\n",
    "        df_combined_counts = df_combined.groupby('year').count().reset_index()\n",
    "\n",
    "        return df_combined, df_combined_counts\n",
    "    \n",
    "    else:\n",
    "        question_of_interest = question_of_interest\n",
    "        df_2022 = grab_subset_of_data(responses_df_2022, question_of_interest)\n",
    "        df_2021 = grab_subset_of_data(responses_df_2021, question_of_interest)\n",
    "        df_2020 = grab_subset_of_data(responses_df_2020, question_of_interest)\n",
    "        df_2019 = grab_subset_of_data(responses_df_2019, question_of_interest)\n",
    "        df_2018 = grab_subset_of_data(responses_df_2018, question_of_interest)\n",
    "        df_2017 = grab_subset_of_data(responses_df_2017, question_of_interest)\n",
    "\n",
    "        add_year_column_to_dataframes(\n",
    "            df_2022,\n",
    "            df_2021,\n",
    "            df_2020,\n",
    "            df_2019,\n",
    "            df_2018,\n",
    "            df_2017)\n",
    "\n",
    "        df_combined = pd.concat(\n",
    "            [df_2017,\n",
    "            df_2018,\n",
    "            df_2019,\n",
    "            df_2020,\n",
    "            df_2021,\n",
    "            df_2022])\n",
    "        df_combined_counts = df_combined.groupby('year').count().reset_index()\n",
    "\n",
    "        return df_combined, df_combined_counts\n",
    "\n",
    "def load_survey_data(base_dir,file_name,rows_to_skip=1):\n",
    "    file_path = os.path.join(base_dir,file_name)\n",
    "    df = pd.read_csv(file_path,low_memory=False,encoding='ISO-8859-1',skiprows=rows_to_skip)\n",
    "    file_name = 'kaggle_survey_'+base_dir[-5:-1]+'.csv'\n",
    "    files_present = glob.glob(file_name)\n",
    "    if not files_present:\n",
    "        df.to_csv(file_name,index=False)    \n",
    "    return df"
   ]
  },
  {
   "cell_type": "markdown",
   "metadata": {
    "papermill": {
     "duration": 0.021337,
     "end_time": "2022-09-28T17:20:51.33196",
     "exception": false,
     "start_time": "2022-09-28T17:20:51.310623",
     "status": "completed"
    },
    "tags": []
   },
   "source": [
    "# *Step 3: Load the data* \n",
    "We will load all data we need, those are 6 Kaggle Survey datasets for 6 years (2017-2022)."
   ]
  },
  {
   "cell_type": "code",
   "execution_count": 21,
   "metadata": {
    "_cell_guid": "b1076dfc-b9ad-4769-8c92-a6c4dae69d19",
    "_kg_hide-input": true,
    "_uuid": "8f2839f25d086af736a60e9eeb907d3b93b6e0e5",
    "execution": {
     "iopub.execute_input": "2022-11-26T01:55:06.032777Z",
     "iopub.status.busy": "2022-11-26T01:55:06.032359Z",
     "iopub.status.idle": "2022-11-26T01:55:24.211738Z",
     "shell.execute_reply": "2022-11-26T01:55:24.210539Z",
     "shell.execute_reply.started": "2022-11-26T01:55:06.032743Z"
    },
    "papermill": {
     "duration": 17.213309,
     "end_time": "2022-09-28T17:21:08.56738",
     "exception": false,
     "start_time": "2022-09-28T17:20:51.354071",
     "status": "completed"
    },
    "tags": []
   },
   "outputs": [
    {
     "ename": "FileNotFoundError",
     "evalue": "[Errno 2] No such file or directory: 'F:/Referensi LCA/Python/dataset/kaggle_survey_2017'",
     "output_type": "error",
     "traceback": [
      "\u001b[1;31m---------------------------------------------------------------------------\u001b[0m",
      "\u001b[1;31mFileNotFoundError\u001b[0m                         Traceback (most recent call last)",
      "Cell \u001b[1;32mIn[21], line 15\u001b[0m\n\u001b[0;32m     13\u001b[0m base_dir_2017 \u001b[39m=\u001b[39m \u001b[39m'\u001b[39m\u001b[39mF:/Referensi LCA/Python/dataset/\u001b[39m\u001b[39m'\u001b[39m\n\u001b[0;32m     14\u001b[0m file_name_2017 \u001b[39m=\u001b[39m \u001b[39m'\u001b[39m\u001b[39mkaggle_survey_2017\u001b[39m\u001b[39m'\u001b[39m\n\u001b[1;32m---> 15\u001b[0m responses_df_2017 \u001b[39m=\u001b[39m load_survey_data(base_dir_2017,file_name_2017,rows_to_skip\u001b[39m=\u001b[39;49m\u001b[39m0\u001b[39;49m)\n\u001b[0;32m     17\u001b[0m base_dir_2018 \u001b[39m=\u001b[39m \u001b[39m'\u001b[39m\u001b[39mF:/Referensi LCA/Python/dataset/\u001b[39m\u001b[39m'\u001b[39m\n\u001b[0;32m     18\u001b[0m file_name_2018 \u001b[39m=\u001b[39m \u001b[39m'\u001b[39m\u001b[39mkaggle_survey_2018\u001b[39m\u001b[39m'\u001b[39m\n",
      "Cell \u001b[1;32mIn[20], line 114\u001b[0m, in \u001b[0;36mload_survey_data\u001b[1;34m(base_dir, file_name, rows_to_skip)\u001b[0m\n\u001b[0;32m    112\u001b[0m \u001b[39mdef\u001b[39;00m \u001b[39mload_survey_data\u001b[39m(base_dir,file_name,rows_to_skip\u001b[39m=\u001b[39m\u001b[39m1\u001b[39m):\n\u001b[0;32m    113\u001b[0m     file_path \u001b[39m=\u001b[39m os\u001b[39m.\u001b[39mpath\u001b[39m.\u001b[39mjoin(base_dir,file_name)\n\u001b[1;32m--> 114\u001b[0m     df \u001b[39m=\u001b[39m pd\u001b[39m.\u001b[39;49mread_csv(file_path,low_memory\u001b[39m=\u001b[39;49m\u001b[39mFalse\u001b[39;49;00m,encoding\u001b[39m=\u001b[39;49m\u001b[39m'\u001b[39;49m\u001b[39mISO-8859-1\u001b[39;49m\u001b[39m'\u001b[39;49m,skiprows\u001b[39m=\u001b[39;49mrows_to_skip)\n\u001b[0;32m    115\u001b[0m     file_name \u001b[39m=\u001b[39m \u001b[39m'\u001b[39m\u001b[39mkaggle_survey_\u001b[39m\u001b[39m'\u001b[39m\u001b[39m+\u001b[39mbase_dir[\u001b[39m-\u001b[39m\u001b[39m5\u001b[39m:\u001b[39m-\u001b[39m\u001b[39m1\u001b[39m]\u001b[39m+\u001b[39m\u001b[39m'\u001b[39m\u001b[39m.csv\u001b[39m\u001b[39m'\u001b[39m\n\u001b[0;32m    116\u001b[0m     files_present \u001b[39m=\u001b[39m glob\u001b[39m.\u001b[39mglob(file_name)\n",
      "File \u001b[1;32mc:\\Users\\Rusdan\\AppData\\Local\\Programs\\Python\\Python311\\Lib\\site-packages\\pandas\\util\\_decorators.py:211\u001b[0m, in \u001b[0;36mdeprecate_kwarg.<locals>._deprecate_kwarg.<locals>.wrapper\u001b[1;34m(*args, **kwargs)\u001b[0m\n\u001b[0;32m    209\u001b[0m     \u001b[39melse\u001b[39;00m:\n\u001b[0;32m    210\u001b[0m         kwargs[new_arg_name] \u001b[39m=\u001b[39m new_arg_value\n\u001b[1;32m--> 211\u001b[0m \u001b[39mreturn\u001b[39;00m func(\u001b[39m*\u001b[39;49margs, \u001b[39m*\u001b[39;49m\u001b[39m*\u001b[39;49mkwargs)\n",
      "File \u001b[1;32mc:\\Users\\Rusdan\\AppData\\Local\\Programs\\Python\\Python311\\Lib\\site-packages\\pandas\\util\\_decorators.py:331\u001b[0m, in \u001b[0;36mdeprecate_nonkeyword_arguments.<locals>.decorate.<locals>.wrapper\u001b[1;34m(*args, **kwargs)\u001b[0m\n\u001b[0;32m    325\u001b[0m \u001b[39mif\u001b[39;00m \u001b[39mlen\u001b[39m(args) \u001b[39m>\u001b[39m num_allow_args:\n\u001b[0;32m    326\u001b[0m     warnings\u001b[39m.\u001b[39mwarn(\n\u001b[0;32m    327\u001b[0m         msg\u001b[39m.\u001b[39mformat(arguments\u001b[39m=\u001b[39m_format_argument_list(allow_args)),\n\u001b[0;32m    328\u001b[0m         \u001b[39mFutureWarning\u001b[39;00m,\n\u001b[0;32m    329\u001b[0m         stacklevel\u001b[39m=\u001b[39mfind_stack_level(),\n\u001b[0;32m    330\u001b[0m     )\n\u001b[1;32m--> 331\u001b[0m \u001b[39mreturn\u001b[39;00m func(\u001b[39m*\u001b[39;49margs, \u001b[39m*\u001b[39;49m\u001b[39m*\u001b[39;49mkwargs)\n",
      "File \u001b[1;32mc:\\Users\\Rusdan\\AppData\\Local\\Programs\\Python\\Python311\\Lib\\site-packages\\pandas\\io\\parsers\\readers.py:950\u001b[0m, in \u001b[0;36mread_csv\u001b[1;34m(filepath_or_buffer, sep, delimiter, header, names, index_col, usecols, squeeze, prefix, mangle_dupe_cols, dtype, engine, converters, true_values, false_values, skipinitialspace, skiprows, skipfooter, nrows, na_values, keep_default_na, na_filter, verbose, skip_blank_lines, parse_dates, infer_datetime_format, keep_date_col, date_parser, dayfirst, cache_dates, iterator, chunksize, compression, thousands, decimal, lineterminator, quotechar, quoting, doublequote, escapechar, comment, encoding, encoding_errors, dialect, error_bad_lines, warn_bad_lines, on_bad_lines, delim_whitespace, low_memory, memory_map, float_precision, storage_options)\u001b[0m\n\u001b[0;32m    935\u001b[0m kwds_defaults \u001b[39m=\u001b[39m _refine_defaults_read(\n\u001b[0;32m    936\u001b[0m     dialect,\n\u001b[0;32m    937\u001b[0m     delimiter,\n\u001b[1;32m   (...)\u001b[0m\n\u001b[0;32m    946\u001b[0m     defaults\u001b[39m=\u001b[39m{\u001b[39m\"\u001b[39m\u001b[39mdelimiter\u001b[39m\u001b[39m\"\u001b[39m: \u001b[39m\"\u001b[39m\u001b[39m,\u001b[39m\u001b[39m\"\u001b[39m},\n\u001b[0;32m    947\u001b[0m )\n\u001b[0;32m    948\u001b[0m kwds\u001b[39m.\u001b[39mupdate(kwds_defaults)\n\u001b[1;32m--> 950\u001b[0m \u001b[39mreturn\u001b[39;00m _read(filepath_or_buffer, kwds)\n",
      "File \u001b[1;32mc:\\Users\\Rusdan\\AppData\\Local\\Programs\\Python\\Python311\\Lib\\site-packages\\pandas\\io\\parsers\\readers.py:605\u001b[0m, in \u001b[0;36m_read\u001b[1;34m(filepath_or_buffer, kwds)\u001b[0m\n\u001b[0;32m    602\u001b[0m _validate_names(kwds\u001b[39m.\u001b[39mget(\u001b[39m\"\u001b[39m\u001b[39mnames\u001b[39m\u001b[39m\"\u001b[39m, \u001b[39mNone\u001b[39;00m))\n\u001b[0;32m    604\u001b[0m \u001b[39m# Create the parser.\u001b[39;00m\n\u001b[1;32m--> 605\u001b[0m parser \u001b[39m=\u001b[39m TextFileReader(filepath_or_buffer, \u001b[39m*\u001b[39;49m\u001b[39m*\u001b[39;49mkwds)\n\u001b[0;32m    607\u001b[0m \u001b[39mif\u001b[39;00m chunksize \u001b[39mor\u001b[39;00m iterator:\n\u001b[0;32m    608\u001b[0m     \u001b[39mreturn\u001b[39;00m parser\n",
      "File \u001b[1;32mc:\\Users\\Rusdan\\AppData\\Local\\Programs\\Python\\Python311\\Lib\\site-packages\\pandas\\io\\parsers\\readers.py:1442\u001b[0m, in \u001b[0;36mTextFileReader.__init__\u001b[1;34m(self, f, engine, **kwds)\u001b[0m\n\u001b[0;32m   1439\u001b[0m     \u001b[39mself\u001b[39m\u001b[39m.\u001b[39moptions[\u001b[39m\"\u001b[39m\u001b[39mhas_index_names\u001b[39m\u001b[39m\"\u001b[39m] \u001b[39m=\u001b[39m kwds[\u001b[39m\"\u001b[39m\u001b[39mhas_index_names\u001b[39m\u001b[39m\"\u001b[39m]\n\u001b[0;32m   1441\u001b[0m \u001b[39mself\u001b[39m\u001b[39m.\u001b[39mhandles: IOHandles \u001b[39m|\u001b[39m \u001b[39mNone\u001b[39;00m \u001b[39m=\u001b[39m \u001b[39mNone\u001b[39;00m\n\u001b[1;32m-> 1442\u001b[0m \u001b[39mself\u001b[39m\u001b[39m.\u001b[39m_engine \u001b[39m=\u001b[39m \u001b[39mself\u001b[39;49m\u001b[39m.\u001b[39;49m_make_engine(f, \u001b[39mself\u001b[39;49m\u001b[39m.\u001b[39;49mengine)\n",
      "File \u001b[1;32mc:\\Users\\Rusdan\\AppData\\Local\\Programs\\Python\\Python311\\Lib\\site-packages\\pandas\\io\\parsers\\readers.py:1735\u001b[0m, in \u001b[0;36mTextFileReader._make_engine\u001b[1;34m(self, f, engine)\u001b[0m\n\u001b[0;32m   1733\u001b[0m     \u001b[39mif\u001b[39;00m \u001b[39m\"\u001b[39m\u001b[39mb\u001b[39m\u001b[39m\"\u001b[39m \u001b[39mnot\u001b[39;00m \u001b[39min\u001b[39;00m mode:\n\u001b[0;32m   1734\u001b[0m         mode \u001b[39m+\u001b[39m\u001b[39m=\u001b[39m \u001b[39m\"\u001b[39m\u001b[39mb\u001b[39m\u001b[39m\"\u001b[39m\n\u001b[1;32m-> 1735\u001b[0m \u001b[39mself\u001b[39m\u001b[39m.\u001b[39mhandles \u001b[39m=\u001b[39m get_handle(\n\u001b[0;32m   1736\u001b[0m     f,\n\u001b[0;32m   1737\u001b[0m     mode,\n\u001b[0;32m   1738\u001b[0m     encoding\u001b[39m=\u001b[39;49m\u001b[39mself\u001b[39;49m\u001b[39m.\u001b[39;49moptions\u001b[39m.\u001b[39;49mget(\u001b[39m\"\u001b[39;49m\u001b[39mencoding\u001b[39;49m\u001b[39m\"\u001b[39;49m, \u001b[39mNone\u001b[39;49;00m),\n\u001b[0;32m   1739\u001b[0m     compression\u001b[39m=\u001b[39;49m\u001b[39mself\u001b[39;49m\u001b[39m.\u001b[39;49moptions\u001b[39m.\u001b[39;49mget(\u001b[39m\"\u001b[39;49m\u001b[39mcompression\u001b[39;49m\u001b[39m\"\u001b[39;49m, \u001b[39mNone\u001b[39;49;00m),\n\u001b[0;32m   1740\u001b[0m     memory_map\u001b[39m=\u001b[39;49m\u001b[39mself\u001b[39;49m\u001b[39m.\u001b[39;49moptions\u001b[39m.\u001b[39;49mget(\u001b[39m\"\u001b[39;49m\u001b[39mmemory_map\u001b[39;49m\u001b[39m\"\u001b[39;49m, \u001b[39mFalse\u001b[39;49;00m),\n\u001b[0;32m   1741\u001b[0m     is_text\u001b[39m=\u001b[39;49mis_text,\n\u001b[0;32m   1742\u001b[0m     errors\u001b[39m=\u001b[39;49m\u001b[39mself\u001b[39;49m\u001b[39m.\u001b[39;49moptions\u001b[39m.\u001b[39;49mget(\u001b[39m\"\u001b[39;49m\u001b[39mencoding_errors\u001b[39;49m\u001b[39m\"\u001b[39;49m, \u001b[39m\"\u001b[39;49m\u001b[39mstrict\u001b[39;49m\u001b[39m\"\u001b[39;49m),\n\u001b[0;32m   1743\u001b[0m     storage_options\u001b[39m=\u001b[39;49m\u001b[39mself\u001b[39;49m\u001b[39m.\u001b[39;49moptions\u001b[39m.\u001b[39;49mget(\u001b[39m\"\u001b[39;49m\u001b[39mstorage_options\u001b[39;49m\u001b[39m\"\u001b[39;49m, \u001b[39mNone\u001b[39;49;00m),\n\u001b[0;32m   1744\u001b[0m )\n\u001b[0;32m   1745\u001b[0m \u001b[39massert\u001b[39;00m \u001b[39mself\u001b[39m\u001b[39m.\u001b[39mhandles \u001b[39mis\u001b[39;00m \u001b[39mnot\u001b[39;00m \u001b[39mNone\u001b[39;00m\n\u001b[0;32m   1746\u001b[0m f \u001b[39m=\u001b[39m \u001b[39mself\u001b[39m\u001b[39m.\u001b[39mhandles\u001b[39m.\u001b[39mhandle\n",
      "File \u001b[1;32mc:\\Users\\Rusdan\\AppData\\Local\\Programs\\Python\\Python311\\Lib\\site-packages\\pandas\\io\\common.py:856\u001b[0m, in \u001b[0;36mget_handle\u001b[1;34m(path_or_buf, mode, encoding, compression, memory_map, is_text, errors, storage_options)\u001b[0m\n\u001b[0;32m    851\u001b[0m \u001b[39melif\u001b[39;00m \u001b[39misinstance\u001b[39m(handle, \u001b[39mstr\u001b[39m):\n\u001b[0;32m    852\u001b[0m     \u001b[39m# Check whether the filename is to be opened in binary mode.\u001b[39;00m\n\u001b[0;32m    853\u001b[0m     \u001b[39m# Binary mode does not support 'encoding' and 'newline'.\u001b[39;00m\n\u001b[0;32m    854\u001b[0m     \u001b[39mif\u001b[39;00m ioargs\u001b[39m.\u001b[39mencoding \u001b[39mand\u001b[39;00m \u001b[39m\"\u001b[39m\u001b[39mb\u001b[39m\u001b[39m\"\u001b[39m \u001b[39mnot\u001b[39;00m \u001b[39min\u001b[39;00m ioargs\u001b[39m.\u001b[39mmode:\n\u001b[0;32m    855\u001b[0m         \u001b[39m# Encoding\u001b[39;00m\n\u001b[1;32m--> 856\u001b[0m         handle \u001b[39m=\u001b[39m \u001b[39mopen\u001b[39;49m(\n\u001b[0;32m    857\u001b[0m             handle,\n\u001b[0;32m    858\u001b[0m             ioargs\u001b[39m.\u001b[39;49mmode,\n\u001b[0;32m    859\u001b[0m             encoding\u001b[39m=\u001b[39;49mioargs\u001b[39m.\u001b[39;49mencoding,\n\u001b[0;32m    860\u001b[0m             errors\u001b[39m=\u001b[39;49merrors,\n\u001b[0;32m    861\u001b[0m             newline\u001b[39m=\u001b[39;49m\u001b[39m\"\u001b[39;49m\u001b[39m\"\u001b[39;49m,\n\u001b[0;32m    862\u001b[0m         )\n\u001b[0;32m    863\u001b[0m     \u001b[39melse\u001b[39;00m:\n\u001b[0;32m    864\u001b[0m         \u001b[39m# Binary mode\u001b[39;00m\n\u001b[0;32m    865\u001b[0m         handle \u001b[39m=\u001b[39m \u001b[39mopen\u001b[39m(handle, ioargs\u001b[39m.\u001b[39mmode)\n",
      "\u001b[1;31mFileNotFoundError\u001b[0m: [Errno 2] No such file or directory: 'F:/Referensi LCA/Python/dataset/kaggle_survey_2017'"
     ]
    }
   ],
   "source": [
    "directory = 'F:/Referensi LCA/Python/dataset/working/individual/'\n",
    "if not os.path.exists(directory):\n",
    "    os.mkdir(directory)\n",
    "    \n",
    "directory = 'F:/Referensi LCA/Python/dataset/working/individual/data/'\n",
    "if not os.path.exists(directory):\n",
    "    os.mkdir(directory)\n",
    "\n",
    "directory = 'F:/Referensi LCA/Python/dataset/working/individual/charts/'\n",
    "if not os.path.exists(directory):\n",
    "    os.mkdir(directory)\n",
    "\n",
    "base_dir_2017 = 'F:/Referensi LCA/Python/dataset/'\n",
    "file_name_2017 = 'kaggle_survey_2017'\n",
    "responses_df_2017 = load_survey_data(base_dir_2017,file_name_2017,rows_to_skip=0)\n",
    "\n",
    "base_dir_2018 = 'F:/Referensi LCA/Python/dataset/'\n",
    "file_name_2018 = 'kaggle_survey_2018'\n",
    "responses_df_2018 = load_survey_data(base_dir_2018,file_name_2018)\n",
    "\n",
    "base_dir_2019 = 'F:/Referensi LCA/Python/dataset/'\n",
    "file_name_2019 = 'kaggle_survey_2019'\n",
    "responses_df_2019 = load_survey_data(base_dir_2019,file_name_2019)\n",
    "\n",
    "base_dir_2020 = 'F:/Referensi LCA/Python/dataset/'\n",
    "file_name_2020 = 'kaggle_survey_2020'\n",
    "responses_df_2020 = load_survey_data(base_dir_2020,file_name_2020)\n",
    "\n",
    "base_dir_2021 = 'F:/Referensi LCA/Python/dataset/'\n",
    "file_name_2021 = 'kaggle_survey_2021'\n",
    "responses_df_2021 = load_survey_data(base_dir_2021,file_name_2021)\n",
    "\n",
    "base_dir_2022 = 'F:/Referensi LCA/Python/dataset/'\n",
    "file_name_2022 = 'kaggle_survey_2022'\n",
    "responses_df_2022 = load_survey_data(base_dir_2022,file_name_2022)"
   ]
  },
  {
   "cell_type": "markdown",
   "metadata": {
    "papermill": {
     "duration": 0.021099,
     "end_time": "2022-09-28T17:21:08.610044",
     "exception": false,
     "start_time": "2022-09-28T17:21:08.588945",
     "status": "completed"
    },
    "tags": []
   },
   "source": [
    "# *Step 4: Clean the data and apply filters*\n",
    "Filter according to job title, country of residence, etc"
   ]
  },
  {
   "cell_type": "code",
   "execution_count": null,
   "metadata": {
    "_kg_hide-input": true,
    "execution": {
     "iopub.execute_input": "2022-11-26T01:55:30.931887Z",
     "iopub.status.busy": "2022-11-26T01:55:30.931012Z",
     "iopub.status.idle": "2022-11-26T01:55:31.167607Z",
     "shell.execute_reply": "2022-11-26T01:55:31.166423Z",
     "shell.execute_reply.started": "2022-11-26T01:55:30.931846Z"
    },
    "papermill": {
     "duration": 0.252499,
     "end_time": "2022-09-28T17:21:08.88433",
     "exception": false,
     "start_time": "2022-09-28T17:21:08.631831",
     "status": "completed"
    },
    "tags": []
   },
   "outputs": [],
   "source": [
    "responses_df_2018 = responses_df_2018[responses_df_2018.columns.drop(list(responses_df_2018.filter(regex='- Text')))]\n",
    "responses_df_2019 = responses_df_2019[responses_df_2019.columns.drop(list(responses_df_2019.filter(regex='- Text')))]\n",
    "\n",
    "# Small repairs to 2022 data \n",
    "def replace_hyphen_with_en_dash(df):\n",
    "    df.columns = df.columns.str.replace('Scikit-learn', 'Scikit—learn')\n",
    "    df.columns = df.columns.str.replace('peer-reviewed', 'peer—reviewed')\n",
    "    df.columns = df.columns.str.replace('Cloud-certification', 'Cloud—certification')\n",
    "    df.columns = df.columns.str.replace('U-Net, Mask R-CNN', 'U—Net, Mask R—CNN')\n",
    "    df.columns = df.columns.str.replace('Encoder-decoder', 'Encoder—decoder')\n",
    "    df.columns = df.columns.str.replace('GPT-3', 'GPT—3')\n",
    "    df.columns = df.columns.str.replace('gpt-3', 'gpt—3')\n",
    "    df.columns = df.columns.str.replace('pre-trained', 'pre—trained')    \n",
    "    df.columns = df.columns.str.replace('What-if', 'What—if')\n",
    "    df.columns = df.columns.str.replace('Audit-AI', 'Audit—AI')\n",
    "    return df\n",
    "\n",
    "responses_df_2022 = replace_hyphen_with_en_dash(responses_df_2022)"
   ]
  },
  {
   "cell_type": "code",
   "execution_count": null,
   "metadata": {
    "_kg_hide-input": true,
    "execution": {
     "iopub.execute_input": "2022-11-26T01:55:35.189706Z",
     "iopub.status.busy": "2022-11-26T01:55:35.189193Z",
     "iopub.status.idle": "2022-11-26T01:55:35.443525Z",
     "shell.execute_reply": "2022-11-26T01:55:35.442309Z",
     "shell.execute_reply.started": "2022-11-26T01:55:35.189663Z"
    },
    "papermill": {
     "duration": 0.031401,
     "end_time": "2022-09-28T17:21:08.937651",
     "exception": false,
     "start_time": "2022-09-28T17:21:08.90625",
     "status": "completed"
    },
    "tags": []
   },
   "outputs": [],
   "source": [
    "# # Filter data according to whether or not the respondent gave specific answers\n",
    "# # In this section, we want to know all things of Kaggle Community in Indonesia\n",
    "\n",
    "country = 'Indonesia'\n",
    "\n",
    "question_of_interest = 'In which country do you currently reside?'\n",
    "question_of_interest_2017 = 'Country'\n",
    "responses_df_2017 = responses_df_2017[responses_df_2017[question_of_interest_2017]==country] \n",
    "responses_df_2018 = responses_df_2018[responses_df_2018[question_of_interest]==country] \n",
    "responses_df_2019 = responses_df_2019[responses_df_2019[question_of_interest]==country] \n",
    "responses_df_2020 = responses_df_2020[responses_df_2020[question_of_interest]==country] \n",
    "responses_df_2021 = responses_df_2021[responses_df_2021[question_of_interest]==country] \n",
    "responses_df_2022 = responses_df_2022[responses_df_2022[question_of_interest]==country] "
   ]
  },
  {
   "cell_type": "markdown",
   "metadata": {
    "papermill": {
     "duration": 0.021156,
     "end_time": "2022-09-28T17:21:08.980172",
     "exception": false,
     "start_time": "2022-09-28T17:21:08.959016",
     "status": "completed"
    },
    "tags": []
   },
   "source": [
    "# *Step 5: Preview the data*"
   ]
  },
  {
   "cell_type": "markdown",
   "metadata": {},
   "source": [
    "`kaggle_survey_2022_responses.csv`: **43 questions and 23,997 responses**\n",
    "\n",
    "- Responses to multiple choice questions (only a single choice can be selected)\n",
    "were recorded in individual columns. Responses to multiple selection questions\n",
    "(multiple choices can be selected) were split into multiple columns (with one\n",
    "column per answer choice).\n",
    "\n",
    "`kaggle_survey_2022_answer_choices.pdf`: **list of answer choices for every question**\n",
    "\n",
    "- With footnotes describing which questions were asked to which respondents.\n",
    "\n",
    "`kaggle_survey_2022_methodology.pdf`: **a description of how the survey was conducted**\n",
    "\n",
    "- You can ask additional questions by posting in the pinned Q&A thread.\n"
   ]
  },
  {
   "cell_type": "code",
   "execution_count": null,
   "metadata": {
    "_kg_hide-input": true,
    "_kg_hide-output": false,
    "execution": {
     "iopub.execute_input": "2022-11-26T01:55:39.98797Z",
     "iopub.status.busy": "2022-11-26T01:55:39.987181Z",
     "iopub.status.idle": "2022-11-26T01:55:40.232243Z",
     "shell.execute_reply": "2022-11-26T01:55:40.230727Z",
     "shell.execute_reply.started": "2022-11-26T01:55:39.987929Z"
    },
    "papermill": {
     "duration": 0.251751,
     "end_time": "2022-09-28T17:21:09.253428",
     "exception": false,
     "start_time": "2022-09-28T17:21:09.001677",
     "status": "completed"
    },
    "tags": []
   },
   "outputs": [],
   "source": [
    "# Preview the data\n",
    "responses_df_2022.head(5)"
   ]
  },
  {
   "cell_type": "markdown",
   "metadata": {
    "papermill": {
     "duration": 0.028883,
     "end_time": "2022-09-28T17:21:09.312211",
     "exception": false,
     "start_time": "2022-09-28T17:21:09.283328",
     "status": "completed"
    },
    "tags": []
   },
   "source": [
    "# *Step 6: Create data visualizations*"
   ]
  },
  {
   "cell_type": "markdown",
   "metadata": {},
   "source": [
    "*a. Survey participations in each year*\n",
    "\n",
    "In this section, we want to look how many is Indonesian Kaggle Community participate in 2022 Kaggle Survey compared to last recent years."
   ]
  },
  {
   "cell_type": "code",
   "execution_count": null,
   "metadata": {
    "execution": {
     "iopub.execute_input": "2022-11-26T01:56:13.15031Z",
     "iopub.status.busy": "2022-11-26T01:56:13.149859Z",
     "iopub.status.idle": "2022-11-26T01:56:13.365762Z",
     "shell.execute_reply": "2022-11-26T01:56:13.364139Z",
     "shell.execute_reply.started": "2022-11-26T01:56:13.150275Z"
    }
   },
   "outputs": [],
   "source": [
    "total_responses_2017 = len(responses_df_2017)\n",
    "total_responses_2018 = len(responses_df_2018)\n",
    "total_responses_2019 = len(responses_df_2019)\n",
    "total_responses_2020 = len(responses_df_2020)\n",
    "total_responses_2021 = len(responses_df_2021)\n",
    "total_responses_2022 = len(responses_df_2022)\n",
    "total_responses = pd.DataFrame({'Year': ['2017', '2018', '2019', '2020', '2021', '2022'],\n",
    "                               'Total': [total_responses_2017, total_responses_2018,\n",
    "                                         total_responses_2019, total_responses_2020,\n",
    "                                         total_responses_2021, total_responses_2022]})\n",
    "\n",
    "sns.barplot(data=total_responses, x='Year', y='Total')"
   ]
  },
  {
   "cell_type": "markdown",
   "metadata": {},
   "source": [
    "**2022 Kaggle Survey participant from Indonesia is lower than the last years, which is survey with the most participant.**"
   ]
  },
  {
   "cell_type": "markdown",
   "metadata": {},
   "source": [
    "*b. Age Distributions*\n",
    "\n",
    "In this section, we want to look at age distribution of Kaggle Community in Indonesia."
   ]
  },
  {
   "cell_type": "code",
   "execution_count": null,
   "metadata": {
    "_kg_hide-input": false,
    "execution": {
     "iopub.execute_input": "2022-11-26T01:58:54.520643Z",
     "iopub.status.busy": "2022-11-26T01:58:54.52017Z",
     "iopub.status.idle": "2022-11-26T01:58:54.617387Z",
     "shell.execute_reply": "2022-11-26T01:58:54.6162Z",
     "shell.execute_reply.started": "2022-11-26T01:58:54.520609Z"
    },
    "papermill": {
     "duration": 0.116625,
     "end_time": "2022-09-28T17:21:12.477988",
     "exception": false,
     "start_time": "2022-09-28T17:21:12.361363",
     "status": "completed"
    },
    "tags": []
   },
   "outputs": [],
   "source": [
    "question_of_interest = 'What is your age (# years)?'\n",
    "percentages = count_then_return_percent(responses_df_2022,question_of_interest).sort_index()\n",
    "orientation_for_chart = 'h'\n",
    "\n",
    "title_for_chart = 'Age Distributions on Indonesian Kaggle Survey Participant'\n",
    "title_for_y_axis = '% of respondents'\n",
    "bar_chart_multiple_choice(response_counts=percentages,\n",
    "                 title=title_for_chart,\n",
    "                 y_axis_title=title_for_y_axis,\n",
    "                 orientation=orientation_for_chart) "
   ]
  },
  {
   "cell_type": "markdown",
   "metadata": {},
   "source": [
    "As we can see, **Kaggle Community from Indonesia that give their responses at 2022 Kaggle Survey is mostly around 18-29 years old.**\n",
    "\n",
    "Next up is we want to look how is the age distribution of Kaggle Survey Participant in each year."
   ]
  },
  {
   "cell_type": "code",
   "execution_count": null,
   "metadata": {
    "_kg_hide-input": true,
    "execution": {
     "iopub.execute_input": "2022-11-26T02:00:26.946567Z",
     "iopub.status.busy": "2022-11-26T02:00:26.945397Z",
     "iopub.status.idle": "2022-11-26T02:00:27.167617Z",
     "shell.execute_reply": "2022-11-26T02:00:27.166573Z",
     "shell.execute_reply.started": "2022-11-26T02:00:26.946524Z"
    },
    "papermill": {
     "duration": 0.147328,
     "end_time": "2022-09-28T17:21:12.65641",
     "exception": false,
     "start_time": "2022-09-28T17:21:12.509082",
     "status": "completed"
    },
    "tags": []
   },
   "outputs": [],
   "source": [
    "question_of_interest = 'What is your age (# years)?'\n",
    "column_of_interest = 'percentage'\n",
    "title_for_chart = 'Indonesian age distributions on Kaggle (2018-2022)'\n",
    "title_for_x_axis = ''\n",
    "title_for_y_axis = '% of respondents'\n",
    "responses_df_2018[question_of_interest].replace(['70-79','80+'], '70+',inplace=True)\n",
    "age_df_combined = combine_subset_of_data_from_multiple_years(question_of_interest,title_for_x_axis)\n",
    "\n",
    "bar_chart_multiple_years(age_df_combined,\n",
    "                                   title_for_x_axis,\n",
    "                                   column_of_interest,\n",
    "                                   title_for_chart,\n",
    "                                   title_for_y_axis)"
   ]
  },
  {
   "cell_type": "markdown",
   "metadata": {},
   "source": [
    "It's little bit fluctuative up there. For age group of 18-21, "
   ]
  },
  {
   "cell_type": "code",
   "execution_count": null,
   "metadata": {
    "_kg_hide-input": true,
    "execution": {
     "iopub.execute_input": "2022-10-06T13:51:03.956906Z",
     "iopub.status.busy": "2022-10-06T13:51:03.956592Z",
     "iopub.status.idle": "2022-10-06T13:51:04.040181Z",
     "shell.execute_reply": "2022-10-06T13:51:04.039405Z",
     "shell.execute_reply.started": "2022-10-06T13:51:03.956877Z"
    },
    "papermill": {
     "duration": 0.117548,
     "end_time": "2022-09-28T17:21:12.806332",
     "exception": false,
     "start_time": "2022-09-28T17:21:12.688784",
     "status": "completed"
    },
    "tags": []
   },
   "outputs": [],
   "source": [
    "# question_of_interest = 'What is your gender? - Selected Choice'\n",
    "# responses_in_order = ['Man','Woman','Nonbinary','Prefer to self-describe','Prefer not to say']\n",
    "# percentages = count_then_return_percent(responses_df_2022,question_of_interest).sort_index()[responses_in_order].iloc[::-1]\n",
    "\n",
    "# title_for_chart = 'Gender Distributions on Kaggle'\n",
    "# title_for_y_axis = '% of respondents'\n",
    "# bar_chart_multiple_choice(response_counts=percentages,\n",
    "#                  title=title_for_chart,\n",
    "#                  y_axis_title=title_for_y_axis,\n",
    "#                  orientation=orientation_for_chart) "
   ]
  },
  {
   "cell_type": "code",
   "execution_count": null,
   "metadata": {
    "_kg_hide-input": true,
    "execution": {
     "iopub.execute_input": "2022-10-06T13:51:04.042179Z",
     "iopub.status.busy": "2022-10-06T13:51:04.041626Z",
     "iopub.status.idle": "2022-10-06T13:51:04.203443Z",
     "shell.execute_reply": "2022-10-06T13:51:04.202117Z",
     "shell.execute_reply.started": "2022-10-06T13:51:04.042144Z"
    },
    "papermill": {
     "duration": 0.195,
     "end_time": "2022-09-28T17:21:13.032505",
     "exception": false,
     "start_time": "2022-09-28T17:21:12.837505",
     "status": "completed"
    },
    "tags": []
   },
   "outputs": [],
   "source": [
    "# responses_df_2017['GenderSelect'].replace(['Male'], 'Man',inplace=True)\n",
    "# responses_df_2017['GenderSelect'].replace(['Female'], 'Woman',inplace=True)\n",
    "# responses_df_2017['GenderSelect'].replace(['A different identity','Non-binary, genderqueer, or gender non-conforming'], 'Prefer to self-describe',inplace=True)\n",
    "# responses_df_2017['GenderSelect'].replace(['Non-binary, genderqueer, or gender non-conforming'], 'Nonbinary',inplace=True)\n",
    "# responses_df_2018['What is your gender? - Selected Choice'].replace(['Male'], 'Man',inplace=True)\n",
    "# responses_df_2018['What is your gender? - Selected Choice'].replace(['Female'], 'Woman',inplace=True)\n",
    "# responses_df_2019['What is your gender? - Selected Choice'].replace(['Male'], 'Man',inplace=True)\n",
    "# responses_df_2019['What is your gender? - Selected Choice'].replace(['Female'], 'Woman',inplace=True)\n",
    "\n",
    "# responses_df_2017['GenderSelect'].replace(['Nonbinary','Prefer not to say'], 'Prefer to self-describe',inplace=True)\n",
    "# responses_df_2017.columns = responses_df_2017.columns.str.replace('GenderSelect', 'What is your gender? - Selected Choice',regex=False)\n",
    "# responses_df_2018['What is your gender? - Selected Choice'].replace(['Nonbinary','Prefer not to say'], 'Prefer to self-describe',inplace=True)\n",
    "# responses_df_2019['What is your gender? - Selected Choice'].replace(['Nonbinary','Prefer not to say'], 'Prefer to self-describe',inplace=True)\n",
    "# responses_df_2020['What is your gender? - Selected Choice'].replace(['Nonbinary','Prefer not to say'], 'Prefer to self-describe',inplace=True)\n",
    "# responses_df_2021['What is your gender? - Selected Choice'].replace(['Nonbinary','Prefer not to say'], 'Prefer to self-describe',inplace=True)\n",
    "# responses_df_2022['What is your gender? - Selected Choice'].replace(['Nonbinary','Prefer not to say'], 'Prefer to self-describe',inplace=True)\n",
    "\n",
    "# question_of_interest = 'What is your gender? - Selected Choice'\n",
    "# column_of_interest = 'percentage'\n",
    "# title_for_chart = 'Gender distributions on Kaggle (2018-2022)'\n",
    "# title_for_x_axis = ''\n",
    "# title_for_y_axis = '% of respondents'\n",
    "# age_df_combined = combine_subset_of_data_from_multiple_years(question_of_interest,title_for_x_axis,include_2017='yes')\n",
    "# age_df_combined = age_df_combined.sort_values(by=['year','percentage'], ascending=True)\n",
    "\n",
    "# bar_chart_multiple_years(age_df_combined,\n",
    "#                                    title_for_x_axis,\n",
    "#                                    column_of_interest,\n",
    "#                                    title_for_chart,\n",
    "#                                    title_for_y_axis)"
   ]
  },
  {
   "cell_type": "code",
   "execution_count": null,
   "metadata": {
    "execution": {
     "iopub.execute_input": "2022-10-06T13:51:04.205215Z",
     "iopub.status.busy": "2022-10-06T13:51:04.204873Z",
     "iopub.status.idle": "2022-10-06T13:51:04.291697Z",
     "shell.execute_reply": "2022-10-06T13:51:04.290363Z",
     "shell.execute_reply.started": "2022-10-06T13:51:04.205184Z"
    },
    "papermill": {
     "duration": 0.116999,
     "end_time": "2022-09-28T17:21:13.181921",
     "exception": false,
     "start_time": "2022-09-28T17:21:13.064922",
     "status": "completed"
    },
    "tags": []
   },
   "outputs": [],
   "source": [
    "# question_of_interest = 'Are you currently a student? (high school, university, or graduate)'\n",
    "# percentages = count_then_return_percent(responses_df_2022,question_of_interest).sort_index()\n",
    "# title_for_chart = 'Students status for Kaggle Survey participants'\n",
    "# title_for_y_axis = '% of respondents'\n",
    "  \n",
    "# bar_chart_multiple_choice(response_counts=percentages,\n",
    "#                  title=title_for_chart,\n",
    "#                  y_axis_title=title_for_y_axis,\n",
    "#                  orientation=orientation_for_chart) "
   ]
  },
  {
   "cell_type": "code",
   "execution_count": null,
   "metadata": {
    "_kg_hide-input": true,
    "execution": {
     "iopub.execute_input": "2022-10-06T13:51:04.294299Z",
     "iopub.status.busy": "2022-10-06T13:51:04.293812Z",
     "iopub.status.idle": "2022-10-06T13:51:04.501073Z",
     "shell.execute_reply": "2022-10-06T13:51:04.499911Z",
     "shell.execute_reply.started": "2022-10-06T13:51:04.294231Z"
    },
    "papermill": {
     "duration": 0.249891,
     "end_time": "2022-09-28T17:21:13.464111",
     "exception": false,
     "start_time": "2022-09-28T17:21:13.21422",
     "status": "completed"
    },
    "tags": []
   },
   "outputs": [],
   "source": [
    "# USA_responses_df_2022 = responses_df_2022[responses_df_2022['In which country do you currently reside?']=='United States of America'] \n",
    "# question_of_interest = 'Are you currently a student? (high school, university, or graduate)'\n",
    "# percentages = count_then_return_percent(USA_responses_df_2022,question_of_interest).sort_index()\n",
    "# title_for_chart = 'Students status for Kaggle Survey participants from the USA'\n",
    "# title_for_y_axis = '% of respondents'\n",
    "# bar_chart_multiple_choice(response_counts=percentages,\n",
    "#                  title=title_for_chart,\n",
    "#                  y_axis_title=title_for_y_axis,\n",
    "#                  orientation=orientation_for_chart)\n",
    "\n",
    "# India_responses_df_2022 = responses_df_2022[responses_df_2022['In which country do you currently reside?']=='India'] \n",
    "# question_of_interest = 'Are you currently a student? (high school, university, or graduate)'\n",
    "# percentages = count_then_return_percent(India_responses_df_2022,question_of_interest).sort_index()\n",
    "# title_for_chart = 'Students status for Kaggle Survey participants from India'\n",
    "# title_for_y_axis = '% of respondents'\n",
    "# bar_chart_multiple_choice(response_counts=percentages,\n",
    "#                  title=title_for_chart,\n",
    "#                  y_axis_title=title_for_y_axis,\n",
    "#                  orientation=orientation_for_chart) \n",
    "\n",
    "# # not_india_responses_df_2022 = responses_df_2022[responses_df_2022['In which country do you currently reside?']!='India'] \n",
    "# # question_of_interest = 'Are you currently a student? (high school, university, or graduate)'\n",
    "# # percentages = count_then_return_percent(not_india_responses_df_2022,question_of_interest).sort_index()\n",
    "# # title_for_chart = 'Students status for Kaggle Survey participants not from India'\n",
    "# # title_for_y_axis = '% of respondents'\n",
    "# # bar_chart_multiple_choice(response_counts=percentages,\n",
    "# #                  title=title_for_chart,\n",
    "# #                  y_axis_title=title_for_y_axis,\n",
    "# #                  orientation=orientation_for_chart) "
   ]
  },
  {
   "cell_type": "code",
   "execution_count": null,
   "metadata": {
    "execution": {
     "iopub.execute_input": "2022-10-06T13:51:04.502903Z",
     "iopub.status.busy": "2022-10-06T13:51:04.50248Z",
     "iopub.status.idle": "2022-10-06T13:51:04.771938Z",
     "shell.execute_reply": "2022-10-06T13:51:04.771027Z",
     "shell.execute_reply.started": "2022-10-06T13:51:04.50287Z"
    },
    "papermill": {
     "duration": 0.291674,
     "end_time": "2022-09-28T17:21:13.789578",
     "exception": false,
     "start_time": "2022-09-28T17:21:13.497904",
     "status": "completed"
    },
    "tags": []
   },
   "outputs": [],
   "source": [
    "# question_of_interest = 'On which platforms have you begun or completed data science courses?'\n",
    "# title_for_chart = 'Most popular online educational platforms for data science'\n",
    "# online_learning_platforms_df_2022 = grab_subset_of_data(responses_df_2022, question_of_interest)\n",
    "# online_learning_platforms_df_2022.columns = online_learning_platforms_df_2022.columns.str.replace(\"(direct from AWS, Azure, GCP, or similar)\",'',regex=False)\n",
    "# online_learning_platforms_df_2022.columns = online_learning_platforms_df_2022.columns.str.replace(\"(resulting in a university degree)\",'',regex=False)\n",
    "# bar_chart_multiple_choice_multiple_selection(online_learning_platforms_df_2022,title_for_chart,orientation='h')"
   ]
  },
  {
   "cell_type": "code",
   "execution_count": null,
   "metadata": {
    "_kg_hide-input": true,
    "execution": {
     "iopub.execute_input": "2022-10-06T13:51:04.773751Z",
     "iopub.status.busy": "2022-10-06T13:51:04.773236Z",
     "iopub.status.idle": "2022-10-06T13:51:08.213443Z",
     "shell.execute_reply": "2022-10-06T13:51:08.212262Z",
     "shell.execute_reply.started": "2022-10-06T13:51:04.77372Z"
    },
    "papermill": {
     "duration": 3.583407,
     "end_time": "2022-09-28T17:21:17.406457",
     "exception": false,
     "start_time": "2022-09-28T17:21:13.82305",
     "status": "completed"
    },
    "tags": []
   },
   "outputs": [],
   "source": [
    "# question_of_interest = 'On which platforms have you begun or completed data science courses'\n",
    "# question_of_interest_alternate = 'On which online platforms have you begun or completed data science courses'\n",
    "# #question_of_interest_alternate = 'On which platforms have you begun or completed data science courses? (Select all that apply) - Selected Choice - Kaggle Learn Courses Courses Courses Courses Courses Courses Courses Courses Courses'\n",
    "# responses_df_2018.columns = responses_df_2018.columns.str.replace(question_of_interest_alternate, question_of_interest)\n",
    "# responses_df_2018.replace(['Kaggle Learn'], 'Kaggle Learn Courses',inplace=True)\n",
    "# responses_df_2018.columns = responses_df_2018.columns.str.replace('Kaggle Learn', 'Kaggle Learn Courses',regex=False)\n",
    "# responses_df_2018.replace(['Fast.AI'], 'Fast.ai',inplace=True)\n",
    "# responses_df_2018.columns = responses_df_2018.columns.str.replace('Fast.AI', 'Fast.ai')\n",
    "# responses_df_2018.replace(['Online University Courses'], 'University Courses (resulting in a university degree)',inplace=True)\n",
    "# responses_df_2018.columns = responses_df_2018.columns.str.replace('Online University Courses', 'University Courses (resulting in a university degree)',regex=False)\n",
    "# responses_df_2019.replace(['Kaggle Courses (i.e. Kaggle Learn)'], 'Kaggle Learn Courses',inplace=True)\n",
    "# responses_df_2019.columns = responses_df_2019.columns.str.replace('Kaggle Courses (i.e. Kaggle Learn)', 'Kaggle Learn Courses',regex=False)\n",
    "# question_of_interest = 'On which platforms have you begun or completed data science courses?'\n",
    "# title_for_chart = 'Most popular learning platforms (2018-2022)'\n",
    "# title_for_y_axis = '% of respondents'\n",
    "# learning_platform_df_combined, learning_platform_df_combined_counts = combine_subset_of_data_from_multiple_years_for_multiple_choice_multiple_response_questions(question_of_interest)\n",
    "# learning_platform_df_combined_percentages = convert_df_of_counts_to_percentages(learning_platform_df_combined, learning_platform_df_combined_counts)\n",
    "# learning_platform_df_combined_percentages.columns = learning_platform_df_combined_percentages.columns.str.replace(\"(resulting in a university degree)\",'',regex=False)\n",
    "# learning_platform_df_combined_percentages = learning_platform_df_combined_percentages.loc[:, \n",
    "#         ['year','Coursera','University Courses ','Kaggle Learn Courses','Udemy','Udacity','DataCamp','edX','Fast.ai','None','Other']]\n",
    "\n",
    "# df = learning_platform_df_combined_percentages.melt(id_vars=['year'], \n",
    "#                                                     value_vars=['Coursera', \n",
    "#                                                                 'University Courses ',\n",
    "#                                                                 'Kaggle Learn Courses', \n",
    "#                                                                 'Udemy', \n",
    "#                                                                 'Udacity',\n",
    "#                                                                 'DataCamp', \n",
    "#                                                                 'edX', \n",
    "#                                                                 'Fast.ai'])\n",
    "\n",
    "# df = df.sort_values(by=['year','value'], ascending=True)\n",
    "# df.columns = df.columns.str.replace('variable', '')\n",
    "# bar_chart_multiple_years(df,'','value',title_for_chart,title_for_y_axis)"
   ]
  },
  {
   "cell_type": "code",
   "execution_count": null,
   "metadata": {
    "execution": {
     "iopub.execute_input": "2022-10-06T13:51:08.215146Z",
     "iopub.status.busy": "2022-10-06T13:51:08.21482Z",
     "iopub.status.idle": "2022-10-06T13:51:08.449265Z",
     "shell.execute_reply": "2022-10-06T13:51:08.448051Z",
     "shell.execute_reply.started": "2022-10-06T13:51:08.215117Z"
    },
    "papermill": {
     "duration": 0.268663,
     "end_time": "2022-09-28T17:21:17.708465",
     "exception": false,
     "start_time": "2022-09-28T17:21:17.439802",
     "status": "completed"
    },
    "tags": []
   },
   "outputs": [],
   "source": [
    "# question_of_interest = 'What products or platforms did you find to be most helpful when you first started studying data science?'\n",
    "# title_for_chart = 'Most helpful platforms for data science education'\n",
    "# online_learning_platforms_df_2022 = grab_subset_of_data(responses_df_2022, question_of_interest)\n",
    "# bar_chart_multiple_choice_multiple_selection(online_learning_platforms_df_2022,title_for_chart,orientation='h')"
   ]
  },
  {
   "cell_type": "code",
   "execution_count": null,
   "metadata": {
    "_kg_hide-input": true,
    "execution": {
     "iopub.execute_input": "2022-10-06T13:51:08.451858Z",
     "iopub.status.busy": "2022-10-06T13:51:08.451441Z",
     "iopub.status.idle": "2022-10-06T13:51:08.562496Z",
     "shell.execute_reply": "2022-10-06T13:51:08.560891Z",
     "shell.execute_reply.started": "2022-10-06T13:51:08.451827Z"
    },
    "papermill": {
     "duration": 0.126297,
     "end_time": "2022-09-28T17:21:17.868432",
     "exception": false,
     "start_time": "2022-09-28T17:21:17.742135",
     "status": "completed"
    },
    "tags": []
   },
   "outputs": [],
   "source": [
    "# question_of_interest = 'What is the highest level of formal education that you have attained or plan to attain within the next 2 years?'\n",
    "# responses_df_2022[question_of_interest].replace([\"Bachelorâs degree\"], \"Bachelor's degree\",inplace=True) \n",
    "# responses_df_2022[question_of_interest].replace([\"Masterâs degree\"], \"Master's degree\",inplace=True) \n",
    "# responses_df_2022[question_of_interest].replace([\"Some college/university study without earning a bachelorâs degree\"], \"Some university study but without earning a degree\",inplace=True) \n",
    "# responses_in_order = [\"No formal education past high school\",\"Some university study but without earning a degree\",\"Bachelor's degree\",\"Master's degree\",\"Doctoral degree\",\"Professional doctorate\"]\n",
    "# percentages = count_then_return_percent(responses_df_2022,question_of_interest).sort_index()[responses_in_order]\n",
    "\n",
    "# title_for_chart = 'Most common degree types on Kaggle'\n",
    "# title_for_y_axis = '% of respondents'\n",
    "# bar_chart_multiple_choice(response_counts=percentages,\n",
    "#                  title=title_for_chart,\n",
    "#                  y_axis_title=title_for_y_axis,\n",
    "#                  orientation=orientation_for_chart) "
   ]
  },
  {
   "cell_type": "code",
   "execution_count": null,
   "metadata": {
    "_kg_hide-input": true,
    "execution": {
     "iopub.execute_input": "2022-10-06T13:51:08.565234Z",
     "iopub.status.busy": "2022-10-06T13:51:08.564809Z",
     "iopub.status.idle": "2022-10-06T13:51:08.719194Z",
     "shell.execute_reply": "2022-10-06T13:51:08.718426Z",
     "shell.execute_reply.started": "2022-10-06T13:51:08.565185Z"
    },
    "papermill": {
     "duration": 0.184597,
     "end_time": "2022-09-28T17:21:18.086725",
     "exception": false,
     "start_time": "2022-09-28T17:21:17.902128",
     "status": "completed"
    },
    "tags": []
   },
   "outputs": [],
   "source": [
    "# question_of_interest = 'What is the highest level of formal education that you have attained or plan to attain within the next 2 years?'\n",
    "\n",
    "# responses_df_2017.rename(columns={\"FormalEducation\":question_of_interest}, inplace=True) \n",
    "\n",
    "# responses_df_2017[question_of_interest].replace([\"Master's degree\"], \"Master's degree\",inplace=True)\n",
    "# responses_df_2017[question_of_interest].replace([\"Bachelor's degree\"], \"Bachelor's degree\",inplace=True)\n",
    "# responses_df_2018[question_of_interest].replace([\"Masterâs degree\"], \"Master's degree\",inplace=True)\n",
    "# responses_df_2019[question_of_interest].replace([\"Masterâs degree\"], \"Master's degree\",inplace=True)\n",
    "# responses_df_2020[question_of_interest].replace([\"Masterâs degree\"], \"Master's degree\",inplace=True) \n",
    "# responses_df_2021[question_of_interest].replace([\"Masterâs degree\"], \"Master's degree\",inplace=True)\n",
    "# responses_df_2018[question_of_interest].replace([\"Bachelorâs degree\"], \"Bachelor's degree\",inplace=True)\n",
    "# responses_df_2019[question_of_interest].replace([\"Bachelorâs degree\"], \"Bachelor's degree\",inplace=True)\n",
    "# responses_df_2020[question_of_interest].replace([\"Bachelorâs degree\"], \"Bachelor's degree\",inplace=True)\n",
    "# responses_df_2021[question_of_interest].replace([\"Bachelorâs degree\"], \"Bachelor's degree\",inplace=True)\n",
    "\n",
    "# question_of_interest = 'What is the highest level of formal education that you have attained or plan to attain within the next 2 years?'\n",
    "# column_of_interest = 'percentage'\n",
    "# title_for_chart = 'Most common degree types on Kaggle from 2017-2022'\n",
    "# title_for_x_axis = ''\n",
    "# title_for_y_axis = '% of respondents'\n",
    "# orientation_for_chart = 'v'\n",
    "# degree_df_combined = combine_subset_of_data_from_multiple_years(question_of_interest,title_for_x_axis,include_2017='yes')\n",
    "# degree_df_combined = degree_df_combined.sort_values(by=['year','percentage'], ascending=True)\n",
    "# subset_of_degrees = [\"Bachelor's degree\",\"Master's degree\",\"Doctoral degree\"]\n",
    "# degree_df_combined[''][~degree_df_combined[''].isin(subset_of_degrees)] = \"Other\"\n",
    "\n",
    "# bar_chart_multiple_years(degree_df_combined,\n",
    "#                                    title_for_x_axis,\n",
    "#                                    column_of_interest,\n",
    "#                                    title_for_chart,\n",
    "#                                    title_for_y_axis)"
   ]
  },
  {
   "cell_type": "code",
   "execution_count": null,
   "metadata": {
    "execution": {
     "iopub.execute_input": "2022-10-06T13:51:08.721375Z",
     "iopub.status.busy": "2022-10-06T13:51:08.720504Z",
     "iopub.status.idle": "2022-10-06T13:51:08.80074Z",
     "shell.execute_reply": "2022-10-06T13:51:08.79964Z",
     "shell.execute_reply.started": "2022-10-06T13:51:08.721341Z"
    },
    "papermill": {
     "duration": 0.119557,
     "end_time": "2022-09-28T17:21:18.239749",
     "exception": false,
     "start_time": "2022-09-28T17:21:18.120192",
     "status": "completed"
    },
    "tags": []
   },
   "outputs": [],
   "source": [
    "# question_of_interest = 'Have you ever published any academic research (papers, preprints, conference proceedings, etc)?'\n",
    "# percentages = count_then_return_percent(responses_df_2022,question_of_interest).sort_index()\n",
    "# title_for_chart = 'Proportion of advanced degree holders that have published academic research'\n",
    "# title_for_y_axis = '% of respondents'\n",
    "# orientation_for_chart = 'h'\n",
    "\n",
    "# bar_chart_multiple_choice(response_counts=percentages,\n",
    "#                  title=title_for_chart,\n",
    "#                  y_axis_title=title_for_y_axis,\n",
    "#                  orientation=orientation_for_chart,\n",
    "#                  num_choices=2) "
   ]
  },
  {
   "cell_type": "code",
   "execution_count": null,
   "metadata": {
    "execution": {
     "iopub.execute_input": "2022-10-06T13:51:08.802645Z",
     "iopub.status.busy": "2022-10-06T13:51:08.802267Z",
     "iopub.status.idle": "2022-10-06T13:51:09.018934Z",
     "shell.execute_reply": "2022-10-06T13:51:09.017836Z",
     "shell.execute_reply.started": "2022-10-06T13:51:08.802605Z"
    },
    "papermill": {
     "duration": 0.248803,
     "end_time": "2022-09-28T17:21:18.522487",
     "exception": false,
     "start_time": "2022-09-28T17:21:18.273684",
     "status": "completed"
    },
    "tags": []
   },
   "outputs": [],
   "source": [
    "# question_of_interest = 'Did your research make use of machine learning?'\n",
    "# title_for_chart = 'Academic research topics'\n",
    "# online_learning_platforms_df_2022 = grab_subset_of_data(responses_df_2022, question_of_interest)\n",
    "# bar_chart_multiple_choice_multiple_selection(online_learning_platforms_df_2022,title_for_chart)"
   ]
  },
  {
   "cell_type": "code",
   "execution_count": null,
   "metadata": {
    "execution": {
     "iopub.execute_input": "2022-10-06T13:51:09.020995Z",
     "iopub.status.busy": "2022-10-06T13:51:09.020548Z",
     "iopub.status.idle": "2022-10-06T13:51:09.10484Z",
     "shell.execute_reply": "2022-10-06T13:51:09.103632Z",
     "shell.execute_reply.started": "2022-10-06T13:51:09.020949Z"
    },
    "papermill": {
     "duration": 0.11956,
     "end_time": "2022-09-28T17:21:18.676195",
     "exception": false,
     "start_time": "2022-09-28T17:21:18.556635",
     "status": "completed"
    },
    "tags": []
   },
   "outputs": [],
   "source": [
    "# question_of_interest = 'For how many years have you been writing code and/or programming?'\n",
    "# responses_in_order = ['I have never written code','< 1 years','1-3 years','3-5 years','5-10 years','10-20 years','20+ years']\n",
    "# percentages = count_then_return_percent(responses_df_2022,question_of_interest).sort_index()[responses_in_order]\n",
    "# orientation_for_chart = 'h'\n",
    "\n",
    "# title_for_chart = 'Programming Experience on Kaggle'\n",
    "# title_for_y_axis = '% of respondents'\n",
    "# bar_chart_multiple_choice(response_counts=percentages,\n",
    "#                  title=title_for_chart,\n",
    "#                  y_axis_title=title_for_y_axis,\n",
    "#                  orientation=orientation_for_chart) "
   ]
  },
  {
   "cell_type": "code",
   "execution_count": null,
   "metadata": {
    "_kg_hide-input": true,
    "execution": {
     "iopub.execute_input": "2022-10-06T13:51:09.106609Z",
     "iopub.status.busy": "2022-10-06T13:51:09.106254Z",
     "iopub.status.idle": "2022-10-06T13:51:09.242234Z",
     "shell.execute_reply": "2022-10-06T13:51:09.241131Z",
     "shell.execute_reply.started": "2022-10-06T13:51:09.106578Z"
    },
    "papermill": {
     "duration": 0.171695,
     "end_time": "2022-09-28T17:21:18.882304",
     "exception": false,
     "start_time": "2022-09-28T17:21:18.710609",
     "status": "completed"
    },
    "tags": []
   },
   "outputs": [],
   "source": [
    "# question_of_interest = 'For how many years have you been writing code and/or programming?'\n",
    "# responses_df_2018.rename(columns={\"How long have you been writing code to analyze data?\":question_of_interest}, inplace=True) \n",
    "# responses_df_2018[question_of_interest].replace([\"< 1 year\"], \"< 1 years\",inplace=True)\n",
    "# responses_df_2018[question_of_interest].replace([\"I have never written code but I want to learn\",\"I have never written code and I do not want to learn\"], \"I have never written code\",inplace=True)\n",
    "# responses_df_2018[question_of_interest].replace([\"1-2 years\"], \"1-3 years\",inplace=True)\n",
    "# responses_df_2018[question_of_interest].replace([\"20-30 years\"], \"20+ years\",inplace=True)\n",
    "# responses_df_2018[question_of_interest].replace([\"30-40 years\"], \"20+ years\",inplace=True)\n",
    "# responses_df_2018[question_of_interest].replace([\"40+ years\"], \"20+ years\",inplace=True)\n",
    "# responses_df_2019.rename(columns={\"How long have you been writing code to analyze data (at work or at school)?\":question_of_interest}, inplace=True) \n",
    "# responses_df_2019[question_of_interest].replace([\"1-2 years\"], \"1-3 years\",inplace=True)\n",
    "# responses_df_2020[question_of_interest].replace([\"1-2 years\"], \"1-3 years\",inplace=True)\n",
    "\n",
    "# title_for_chart = \"Programming Experience on Kaggle (2018-2022)\"\n",
    "# title_for_y_axis = '% of respondents'\n",
    "# title_for_x_axis = ''\n",
    "# programming_df_combined = combine_subset_of_data_from_multiple_years(question_of_interest,title_for_x_axis).sort_values(by=['year','percentage'], ascending=True)\n",
    "\n",
    "# bar_chart_multiple_years(programming_df_combined,\n",
    "#                                    title_for_x_axis,\n",
    "#                                    column_of_interest,\n",
    "#                                    title_for_chart,\n",
    "#                                    title_for_y_axis)"
   ]
  },
  {
   "cell_type": "code",
   "execution_count": null,
   "metadata": {
    "execution": {
     "iopub.execute_input": "2022-10-06T13:51:09.249694Z",
     "iopub.status.busy": "2022-10-06T13:51:09.249331Z",
     "iopub.status.idle": "2022-10-06T13:51:09.507847Z",
     "shell.execute_reply": "2022-10-06T13:51:09.506318Z",
     "shell.execute_reply.started": "2022-10-06T13:51:09.249664Z"
    },
    "papermill": {
     "duration": 0.299361,
     "end_time": "2022-09-28T17:21:19.21719",
     "exception": false,
     "start_time": "2022-09-28T17:21:18.917829",
     "status": "completed"
    },
    "tags": []
   },
   "outputs": [],
   "source": [
    "# question_of_interest = 'What programming languages do you use on a regular basis?'\n",
    "# title_for_chart = 'Most Popular Programming Languages'\n",
    "# online_learning_platforms_df_2022 = grab_subset_of_data(responses_df_2022, question_of_interest)\n",
    "# bar_chart_multiple_choice_multiple_selection(online_learning_platforms_df_2022,title_for_chart,orientation='h')"
   ]
  },
  {
   "cell_type": "code",
   "execution_count": null,
   "metadata": {
    "_kg_hide-input": true,
    "execution": {
     "iopub.execute_input": "2022-10-06T13:51:09.511613Z",
     "iopub.status.busy": "2022-10-06T13:51:09.509923Z",
     "iopub.status.idle": "2022-10-06T13:51:10.748476Z",
     "shell.execute_reply": "2022-10-06T13:51:10.747325Z",
     "shell.execute_reply.started": "2022-10-06T13:51:09.511545Z"
    },
    "papermill": {
     "duration": 1.266096,
     "end_time": "2022-09-28T17:21:20.51794",
     "exception": false,
     "start_time": "2022-09-28T17:21:19.251844",
     "status": "completed"
    },
    "tags": []
   },
   "outputs": [],
   "source": [
    "# question_of_interest = 'What programming languages do you use on a regular basis?'\n",
    "# title_for_chart = 'Most Popular Programming Languages 2018-2022'\n",
    "# title_for_y_axis = '% of respondents'\n",
    "# language_df_combined, language_df_combined_counts = combine_subset_of_data_from_multiple_years_for_multiple_choice_multiple_response_questions(question_of_interest)\n",
    "# language_df_combined_percentages = convert_df_of_counts_to_percentages(language_df_combined, language_df_combined_counts)\n",
    "# language_df_combined_percentages = language_df_combined_percentages.loc[:, \n",
    "#         ['year','Python','SQL','C++','C','R','Java','Javascript','Other']]\n",
    "\n",
    "# df = language_df_combined_percentages.melt(id_vars=['year'], \n",
    "#                                            value_vars=['Python','SQL','C++','C','R','Java','Javascript','Other'])\n",
    "# df = df.sort_values(by=['year','value'], ascending=True)\n",
    "# df = df.rename(columns={'variable': ''})\n",
    "# bar_chart_multiple_years(df,'','value',title_for_chart,title_for_y_axis)"
   ]
  },
  {
   "cell_type": "code",
   "execution_count": null,
   "metadata": {
    "execution": {
     "iopub.execute_input": "2022-10-06T13:51:10.751261Z",
     "iopub.status.busy": "2022-10-06T13:51:10.749948Z",
     "iopub.status.idle": "2022-10-06T13:51:11.002366Z",
     "shell.execute_reply": "2022-10-06T13:51:11.001157Z",
     "shell.execute_reply.started": "2022-10-06T13:51:10.75122Z"
    },
    "papermill": {
     "duration": 0.288934,
     "end_time": "2022-09-28T17:21:20.842132",
     "exception": false,
     "start_time": "2022-09-28T17:21:20.553198",
     "status": "completed"
    },
    "tags": []
   },
   "outputs": [],
   "source": [
    "# question_of_interest = \"Which of the following integrated development environments (IDE's) do you use on a regular basis?\"\n",
    "# ide_df_2022 = grab_subset_of_data(responses_df_2022, question_of_interest)\n",
    "# title_for_chart = \"Most Popular IDE's\"\n",
    "# bar_chart_multiple_choice_multiple_selection(ide_df_2022,title_for_chart,orientation='h')"
   ]
  },
  {
   "cell_type": "code",
   "execution_count": null,
   "metadata": {
    "_kg_hide-input": true,
    "execution": {
     "iopub.execute_input": "2022-10-06T13:51:11.003917Z",
     "iopub.status.busy": "2022-10-06T13:51:11.003591Z",
     "iopub.status.idle": "2022-10-06T13:51:11.290521Z",
     "shell.execute_reply": "2022-10-06T13:51:11.289268Z",
     "shell.execute_reply.started": "2022-10-06T13:51:11.003887Z"
    },
    "papermill": {
     "duration": 0.326176,
     "end_time": "2022-09-28T17:21:21.204074",
     "exception": false,
     "start_time": "2022-09-28T17:21:20.877898",
     "status": "completed"
    },
    "tags": []
   },
   "outputs": [],
   "source": [
    "# question_of_interest = \"Which of the following integrated development environments (IDE's) do you use on a regular basis?\"\n",
    "# ide_df_2022 = grab_subset_of_data(responses_df_2022, question_of_interest)\n",
    "# columns_to_combine = ['Jupyter Notebook','JupyterLab '] \n",
    "# ide_df_2022['Jupyter/JupyterLab'] = (ide_df_2022[columns_to_combine].notna()).any(axis=\"columns\")\n",
    "# ide_df_2022 = ide_df_2022.drop(columns=columns_to_combine)\n",
    "# ide_df_2022['Jupyter/JupyterLab'].replace([True], \"Jupyter/JupyterLab\",inplace=True)\n",
    "# ide_df_2022['Jupyter/JupyterLab'].replace([False], np.nan,inplace=True)\n",
    "\n",
    "# columns_to_combine = ['Visual Studio Code (VSCode) ', 'Visual Studio '] \n",
    "# ide_df_2022['Visual Studio / Visual Studio Code (VSCode)'] = (ide_df_2022[columns_to_combine].notna()).any(axis=\"columns\")\n",
    "# ide_df_2022 = ide_df_2022.drop(columns=columns_to_combine)\n",
    "# ide_df_2022['Visual Studio / Visual Studio Code (VSCode)'].replace([True], \"Visual Studio / Visual Studio Code (VSCode)\",inplace=True)\n",
    "# ide_df_2022['Visual Studio / Visual Studio Code (VSCode)'].replace([False], np.nan,inplace=True)\n",
    "\n",
    "\n",
    "# title_for_chart = \"Most Popular IDE's (after grouping similar products)\"\n",
    "# bar_chart_multiple_choice_multiple_selection(ide_df_2022,title_for_chart,orientation='h')"
   ]
  },
  {
   "cell_type": "code",
   "execution_count": null,
   "metadata": {
    "_kg_hide-input": true,
    "execution": {
     "iopub.execute_input": "2022-10-06T13:51:11.293011Z",
     "iopub.status.busy": "2022-10-06T13:51:11.292538Z",
     "iopub.status.idle": "2022-10-06T13:51:13.208165Z",
     "shell.execute_reply": "2022-10-06T13:51:13.207001Z",
     "shell.execute_reply.started": "2022-10-06T13:51:11.292965Z"
    },
    "papermill": {
     "duration": 2.028214,
     "end_time": "2022-09-28T17:21:23.269835",
     "exception": false,
     "start_time": "2022-09-28T17:21:21.241621",
     "status": "completed"
    },
    "tags": []
   },
   "outputs": [],
   "source": [
    "# correct_phrasing = \"Jupyter Notebook / JupyterLab\"\n",
    "# incorrect_phrasing = 'Jupyter/IPython'\n",
    "# responses_df_2018.columns = responses_df_2018.columns.str.replace(incorrect_phrasing, correct_phrasing,regex=False)\n",
    "\n",
    "# question_of_interest = \"Which of the following integrated development environments (IDE's) do you use on a regular basis?\"\n",
    "# alternate_phrasing = \"Which of the following integrated development environments (IDE's) have you used at work or school in the last 5 years?\"\n",
    "# responses_df_2018.columns = responses_df_2018.columns.str.replace(alternate_phrasing, question_of_interest,regex=False)\n",
    "# title_for_chart = \"Most Popular IDE's 2018-2022\"\n",
    "# x_axis_title = 'Percentage of respondents'\n",
    "# ide_df_combined, ide_df_combined_counts = combine_subset_of_data_from_multiple_years_for_multiple_choice_multiple_response_questions(question_of_interest,x_axis_title)\n",
    "\n",
    "# ide_df_combined_2 = ide_df_combined.copy()\n",
    "# columns_to_combine = ['Jupyter Notebook','JupyterLab ','Jupyter (JupyterLab, Jupyter Notebooks, etc) ','Jupyter Notebook / JupyterLab']\n",
    "# ide_df_combined_2['Jupyter Notebook / JupyterLab_'] = (ide_df_combined_2[columns_to_combine].notna()).any(axis=\"columns\")\n",
    "# ide_df_combined_2 = ide_df_combined_2.drop(columns=columns_to_combine)\n",
    "# ide_df_combined_2['Jupyter Notebook / JupyterLab_'].replace([True], \"Jupyter Notebook / JupyterLab\",inplace=True)\n",
    "# ide_df_combined_2['Jupyter Notebook / JupyterLab_'].replace([False], np.nan,inplace=True)\n",
    "# ide_df_combined_2.columns = ide_df_combined_2.columns.str.replace('Jupyter Notebook / JupyterLab_', 'Jupyter Notebook / JupyterLab',regex=False)\n",
    "\n",
    "# columns_to_combine = ['MATLAB','MATLAB ']\n",
    "# ide_df_combined_2['MATLAB_'] = (ide_df_combined_2[columns_to_combine].notna()).any(axis=\"columns\")\n",
    "# ide_df_combined_2 = ide_df_combined_2.drop(columns=columns_to_combine)\n",
    "# ide_df_combined_2['MATLAB_'].replace([True], \"MATLAB\",inplace=True)\n",
    "# ide_df_combined_2['MATLAB_'].replace([False], np.nan,inplace=True)\n",
    "# ide_df_combined_2.columns = ide_df_combined_2.columns.str.replace('MATLAB_', 'MATLAB',regex=False)\n",
    "\n",
    "# columns_to_combine = ['RStudio','RStudio ']\n",
    "# ide_df_combined_2['RStudio_'] = (ide_df_combined_2[columns_to_combine].notna()).any(axis=\"columns\")\n",
    "# ide_df_combined_2 = ide_df_combined_2.drop(columns=columns_to_combine)\n",
    "# ide_df_combined_2['RStudio_'].replace([True], \"RStudio\",inplace=True)\n",
    "# ide_df_combined_2['RStudio_'].replace([False], np.nan,inplace=True)\n",
    "# ide_df_combined_2.columns = ide_df_combined_2.columns.str.replace('RStudio_', 'RStudio',regex=False)\n",
    "\n",
    "# columns_to_combine = ['Visual Studio Code', 'Visual Studio','Visual Studio / Visual Studio Code ','Visual Studio ', 'Visual Studio Code (VSCode) ','Click to write Choice 13']\n",
    "# ide_df_combined_2['Visual Studio / Visual Studio Code (VSCode)'] = (ide_df_combined_2[columns_to_combine].notna()).any(axis=\"columns\")\n",
    "# ide_df_combined_2 = ide_df_combined_2.drop(columns=columns_to_combine)\n",
    "# ide_df_combined_2['Visual Studio / Visual Studio Code (VSCode)'].replace([True], \"Visual Studio / Visual Studio Code (VSCode)\",inplace=True)\n",
    "# ide_df_combined_2['Visual Studio / Visual Studio Code (VSCode)'].replace([False], np.nan,inplace=True)\n",
    "\n",
    "# columns_to_combine = ['PyCharm ', 'PyCharm'] \n",
    "# ide_df_combined_2['PyCharm_'] = (ide_df_combined_2[columns_to_combine].notna()).any(axis=\"columns\")\n",
    "# ide_df_combined_2 = ide_df_combined_2.drop(columns=columns_to_combine)\n",
    "# ide_df_combined_2['PyCharm_'].replace([True], \"PyCharm\",inplace=True)\n",
    "# ide_df_combined_2['PyCharm_'].replace([False], np.nan,inplace=True)\n",
    "# ide_df_combined_2.columns = ide_df_combined_2.columns.str.replace('PyCharm_', 'PyCharm',regex=False)\n",
    "\n",
    "# ide_df_combined_counts_2 = ide_df_combined_2.groupby('year').count().reset_index()\n",
    "# ide_df_combined_percentages = convert_df_of_counts_to_percentages(ide_df_combined_2, ide_df_combined_counts_2)\n",
    "\n",
    "\n",
    "# ide_df_combined_percentages = ide_df_combined_percentages.loc[:, \n",
    "#         ['year','Jupyter Notebook / JupyterLab','Visual Studio / Visual Studio Code (VSCode)','RStudio','PyCharm','MATLAB']]\n",
    "\n",
    "# df = ide_df_combined_percentages.melt(id_vars=['year'], \n",
    "#                                            value_vars=['Jupyter Notebook / JupyterLab','Visual Studio / Visual Studio Code (VSCode)','RStudio','PyCharm','MATLAB'])\n",
    "# df = df.sort_values(by=['year','value'], ascending=True)\n",
    "# df = df.rename(columns={'variable': ''})\n",
    "# bar_chart_multiple_years(df,'','value',title_for_chart,title_for_y_axis)"
   ]
  },
  {
   "cell_type": "code",
   "execution_count": null,
   "metadata": {
    "execution": {
     "iopub.execute_input": "2022-10-06T13:51:13.209968Z",
     "iopub.status.busy": "2022-10-06T13:51:13.20964Z",
     "iopub.status.idle": "2022-10-06T13:51:13.469964Z",
     "shell.execute_reply": "2022-10-06T13:51:13.468661Z",
     "shell.execute_reply.started": "2022-10-06T13:51:13.209939Z"
    },
    "papermill": {
     "duration": 0.300853,
     "end_time": "2022-09-28T17:21:23.607412",
     "exception": false,
     "start_time": "2022-09-28T17:21:23.306559",
     "status": "completed"
    },
    "tags": []
   },
   "outputs": [],
   "source": [
    "# question_of_interest = 'Do you use any of the following hosted notebook products?'\n",
    "# title_for_chart = \"Most popular hosted notebooks in 2022\"\n",
    "# notebooks_df_2022 = grab_subset_of_data(responses_df_2022, question_of_interest)\n",
    "# bar_chart_multiple_choice_multiple_selection(notebooks_df_2022,title_for_chart,orientation='h')"
   ]
  },
  {
   "cell_type": "code",
   "execution_count": null,
   "metadata": {
    "_kg_hide-input": true,
    "execution": {
     "iopub.execute_input": "2022-10-06T13:51:13.471706Z",
     "iopub.status.busy": "2022-10-06T13:51:13.471372Z",
     "iopub.status.idle": "2022-10-06T13:51:15.455868Z",
     "shell.execute_reply": "2022-10-06T13:51:15.454576Z",
     "shell.execute_reply.started": "2022-10-06T13:51:13.471676Z"
    },
    "papermill": {
     "duration": 2.018946,
     "end_time": "2022-09-28T17:21:25.663285",
     "exception": false,
     "start_time": "2022-09-28T17:21:23.644339",
     "status": "completed"
    },
    "tags": []
   },
   "outputs": [],
   "source": [
    "# question_of_interest_original = 'Which of the following hosted notebook products do you use on a regular basis?'\n",
    "# question_of_interest_new = 'Do you use any of the following hosted notebook products?'\n",
    "# responses_df_2021.columns = responses_df_2021.columns.str.replace(question_of_interest_original, question_of_interest_new,regex=False)\n",
    "# notebooks_df_2021 = grab_subset_of_data(responses_df_2021, question_of_interest_new)\n",
    "\n",
    "# question_of_interest_original = 'Which of the following hosted notebook products do you use on a regular basis?'\n",
    "# question_of_interest_new = 'Do you use any of the following hosted notebook products?'\n",
    "# responses_df_2020.columns = responses_df_2020.columns.str.replace(question_of_interest_original, question_of_interest_new,regex=False)\n",
    "# notebooks_df_2020 = grab_subset_of_data(responses_df_2020, question_of_interest_new)\n",
    "\n",
    "# colab_text_to_replace = 'Google Colab '\n",
    "# colab_new_text = 'Colab Notebooks'\n",
    "# colab_answer = 'Which of the following hosted notebook products do you use on a regular basis?  (Select all that apply) - Selected Choice -  Google Colab '\n",
    "# kaggle_text_to_replace = 'Kaggle Notebooks (Kernels) '\n",
    "# kaggle_new_text = 'Kaggle Notebooks'\n",
    "# kaggle_answer = 'Which of the following hosted notebook products do you use on a regular basis?  (Select all that apply) - Selected Choice -  Kaggle Notebooks (Kernels) '\n",
    "# responses_df_2019[colab_answer] = responses_df_2019[colab_answer].str.replace(colab_text_to_replace,colab_new_text,regex=False)\n",
    "# responses_df_2019.columns = responses_df_2019.columns.str.replace(colab_text_to_replace, colab_new_text,regex=False)\n",
    "# responses_df_2019[kaggle_answer] = responses_df_2019[kaggle_answer].str.replace(kaggle_text_to_replace,kaggle_new_text,regex=False)\n",
    "# responses_df_2019.columns = responses_df_2019.columns.str.replace(kaggle_text_to_replace, kaggle_new_text,regex=False)\n",
    "# question_of_interest_original = 'Which of the following hosted notebook products do you use on a regular basis?'\n",
    "# question_of_interest_new = 'Do you use any of the following hosted notebook products?'\n",
    "# responses_df_2019.columns = responses_df_2019.columns.str.replace(question_of_interest_original, question_of_interest_new,regex=False)\n",
    "# notebooks_df_2019 = grab_subset_of_data(responses_df_2019, question_of_interest_new)\n",
    "\n",
    "# colab_text_to_replace = 'Google Colab'\n",
    "# colab_new_text = 'Colab Notebooks'\n",
    "# colab_answer = 'Which of the following hosted notebooks have you used at work or school in the last 5 years? (Select all that apply) - Selected Choice - Google Colab'\n",
    "# kaggle_text_to_replace = 'Kaggle Kernels'\n",
    "# kaggle_new_text = 'Kaggle Notebooks'\n",
    "# kaggle_answer = 'Which of the following hosted notebooks have you used at work or school in the last 5 years? (Select all that apply) - Selected Choice - Kaggle Kernels'\n",
    "# responses_df_2018[colab_answer] = responses_df_2018[colab_answer].str.replace(colab_text_to_replace,colab_new_text,regex=False)\n",
    "# responses_df_2018.columns = responses_df_2018.columns.str.replace(colab_text_to_replace, colab_new_text,regex=False)\n",
    "# responses_df_2018[kaggle_answer] = responses_df_2018[kaggle_answer].str.replace(kaggle_text_to_replace,kaggle_new_text,regex=False)\n",
    "# responses_df_2018.columns = responses_df_2018.columns.str.replace(kaggle_text_to_replace, kaggle_new_text,regex=False)\n",
    "# question_of_interest_original = 'Which of the following hosted notebooks have you used at work or school in the last 5 years?'\n",
    "# question_of_interest_new = 'Do you use any of the following hosted notebook products?'\n",
    "# responses_df_2018.columns = responses_df_2018.columns.str.replace(question_of_interest_original, question_of_interest_new,regex=False)\n",
    "# notebooks_df_2018 = grab_subset_of_data(responses_df_2018, question_of_interest_new)\n",
    "\n",
    "\n",
    "# question_of_interest = 'Do you use any of the following hosted notebook products?'\n",
    "# notebooks_df_combined, notebooks_df_combined_counts = combine_subset_of_data_from_multiple_years_for_multiple_choice_multiple_response_questions(question_of_interest)\n",
    "# notebooks_df_combined_percentages = convert_df_of_counts_to_percentages(notebooks_df_combined, notebooks_df_combined_counts)\n",
    "# notebooks_df_combined_percentages = notebooks_df_combined_percentages.loc[:, \n",
    "#         ['year','None','Kaggle Notebooks','Colab Notebooks']]\n",
    "\n",
    "# title_for_chart = \"Most popular hosted notebooks products 2018-2022\"\n",
    "# title_for_y_axis = '% of respondents'\n",
    "# df = notebooks_df_combined_percentages.melt(id_vars=['year'], \n",
    "#                                            value_vars=['None','Kaggle Notebooks','Colab Notebooks'])\n",
    "# df = df.rename(columns={'variable': ''})\n",
    "# bar_chart_multiple_years(df,'','value',title_for_chart,title_for_y_axis)"
   ]
  },
  {
   "cell_type": "code",
   "execution_count": null,
   "metadata": {
    "execution": {
     "iopub.execute_input": "2022-10-06T13:51:15.457765Z",
     "iopub.status.busy": "2022-10-06T13:51:15.457413Z",
     "iopub.status.idle": "2022-10-06T13:51:15.716403Z",
     "shell.execute_reply": "2022-10-06T13:51:15.715232Z",
     "shell.execute_reply.started": "2022-10-06T13:51:15.457734Z"
    },
    "papermill": {
     "duration": 0.293757,
     "end_time": "2022-09-28T17:21:25.993702",
     "exception": false,
     "start_time": "2022-09-28T17:21:25.699945",
     "status": "completed"
    },
    "tags": []
   },
   "outputs": [],
   "source": [
    "# question_of_interest = 'Do you use any of the following data visualization libraries on a regular basis?'\n",
    "# title_for_chart = \"Most popular data visualization frameworks\"\n",
    "# notebooks_df_2022 = grab_subset_of_data(responses_df_2022, question_of_interest)\n",
    "# bar_chart_multiple_choice_multiple_selection(notebooks_df_2022,title_for_chart,orientation='h')"
   ]
  },
  {
   "cell_type": "code",
   "execution_count": null,
   "metadata": {
    "execution": {
     "iopub.execute_input": "2022-10-06T13:51:15.718612Z",
     "iopub.status.busy": "2022-10-06T13:51:15.718232Z",
     "iopub.status.idle": "2022-10-06T13:51:15.800337Z",
     "shell.execute_reply": "2022-10-06T13:51:15.799211Z",
     "shell.execute_reply.started": "2022-10-06T13:51:15.718579Z"
    },
    "papermill": {
     "duration": 0.122004,
     "end_time": "2022-09-28T17:21:26.154257",
     "exception": false,
     "start_time": "2022-09-28T17:21:26.032253",
     "status": "completed"
    },
    "tags": []
   },
   "outputs": [],
   "source": [
    "# question_of_interest = 'For how many years have you used machine learning methods?'\n",
    "# responses_in_order = ['I do not use machine learning methods','Under 1 year','1-2 years','2-3 years','3-4 years','4-5 years','5-10 years','10-20 years']\n",
    "# percentages = count_then_return_percent(responses_df_2022,question_of_interest).sort_index()[responses_in_order]\n",
    "# title_for_chart = \"ML Experience Levels on Kaggle\"\n",
    "# title_for_y_axis = '% of respondents'\n",
    "\n",
    "# bar_chart_multiple_choice(response_counts=percentages,\n",
    "#                  title=title_for_chart,\n",
    "#                  y_axis_title=title_for_y_axis,\n",
    "#                  orientation=orientation_for_chart) "
   ]
  },
  {
   "cell_type": "code",
   "execution_count": null,
   "metadata": {
    "_kg_hide-input": true,
    "execution": {
     "iopub.execute_input": "2022-10-06T13:51:15.802931Z",
     "iopub.status.busy": "2022-10-06T13:51:15.8026Z",
     "iopub.status.idle": "2022-10-06T13:51:15.939701Z",
     "shell.execute_reply": "2022-10-06T13:51:15.93841Z",
     "shell.execute_reply.started": "2022-10-06T13:51:15.802903Z"
    },
    "papermill": {
     "duration": 0.173162,
     "end_time": "2022-09-28T17:21:26.365714",
     "exception": false,
     "start_time": "2022-09-28T17:21:26.192552",
     "status": "completed"
    },
    "tags": []
   },
   "outputs": [],
   "source": [
    "# question_of_interest = 'For how many years have you used machine learning methods?'\n",
    "# responses_df_2018.rename(columns={\"For how many years have you used machine learning methods (at work or in school)?\":question_of_interest}, inplace=True) \n",
    "# responses_df_2018[question_of_interest].replace([\"< 1 year\"], \"Under 1 year\",inplace=True) \n",
    "# responses_df_2018[question_of_interest].replace([\"10-15 years\"], \"10-20 years\",inplace=True) \n",
    "# responses_df_2018[question_of_interest].replace([\"20+ years\"], \"10-20 years\",inplace=True) \n",
    "# responses_df_2018[question_of_interest].replace([\"I have never studied machine learning but plan to learn in the future\"], \"I do not use machine learning methods\",inplace=True) \n",
    "# responses_df_2018[question_of_interest].replace([\"I have never studied machine learning and I do not plan to\"], \"I do not use machine learning methods\",inplace=True) \n",
    "# responses_df_2019[question_of_interest].replace([\"< 1 years\"], \"Under 1 year\",inplace=True) \n",
    "# responses_df_2019[question_of_interest].replace([\"10-15 years\"], \"10-20 years\",inplace=True) \n",
    "# responses_df_2019[question_of_interest].replace([\"20+ years\"], \"20 or more years\",inplace=True) \n",
    "\n",
    "# title_for_chart = \"ML experience for Kagglers (2018-2022)\"\n",
    "# title_for_y_axis = '% of respondents'\n",
    "# title_for_x_axis = ''\n",
    "# ml_exp_df_combined = combine_subset_of_data_from_multiple_years(question_of_interest,title_for_x_axis).sort_values(by=['year','percentage'], ascending=True)\n",
    "\n",
    "# bar_chart_multiple_years(ml_exp_df_combined,\n",
    "#                                    title_for_x_axis,\n",
    "#                                    column_of_interest,\n",
    "#                                    title_for_chart,\n",
    "#                                    title_for_y_axis)"
   ]
  },
  {
   "cell_type": "code",
   "execution_count": null,
   "metadata": {
    "execution": {
     "iopub.execute_input": "2022-10-06T13:51:15.941789Z",
     "iopub.status.busy": "2022-10-06T13:51:15.941337Z",
     "iopub.status.idle": "2022-10-06T13:51:16.214892Z",
     "shell.execute_reply": "2022-10-06T13:51:16.214026Z",
     "shell.execute_reply.started": "2022-10-06T13:51:15.941747Z"
    },
    "papermill": {
     "duration": 0.295138,
     "end_time": "2022-09-28T17:21:26.699031",
     "exception": false,
     "start_time": "2022-09-28T17:21:26.403893",
     "status": "completed"
    },
    "tags": []
   },
   "outputs": [],
   "source": [
    "# question_of_interest = 'Which of the following machine learning frameworks do you use on a regular basis?'\n",
    "# title_for_chart = \"Most popular machine learning frameworks\"\n",
    "# ml_frameworks_df_2022 = grab_subset_of_data(responses_df_2022, question_of_interest)\n",
    "# bar_chart_multiple_choice_multiple_selection(ml_frameworks_df_2022,title_for_chart,orientation='h')"
   ]
  },
  {
   "cell_type": "code",
   "execution_count": null,
   "metadata": {
    "_kg_hide-input": true,
    "execution": {
     "iopub.execute_input": "2022-10-06T13:51:16.21773Z",
     "iopub.status.busy": "2022-10-06T13:51:16.216539Z",
     "iopub.status.idle": "2022-10-06T13:51:16.513998Z",
     "shell.execute_reply": "2022-10-06T13:51:16.512884Z",
     "shell.execute_reply.started": "2022-10-06T13:51:16.217682Z"
    },
    "papermill": {
     "duration": 0.330262,
     "end_time": "2022-09-28T17:21:27.067911",
     "exception": false,
     "start_time": "2022-09-28T17:21:26.737649",
     "status": "completed"
    },
    "tags": []
   },
   "outputs": [],
   "source": [
    "# # Combine TensorFlow and Keras into an \"either TensorFlow OR Keras\" column\n",
    "# ml_frameworks_df_2022 = grab_subset_of_data(responses_df_2022, question_of_interest)\n",
    "# columns_to_combine = ['TensorFlow ','Keras ']\n",
    "# ml_frameworks_df_2022['TensorFlow/Keras'] = (ml_frameworks_df_2022[columns_to_combine].notna()).any(axis=\"columns\")\n",
    "# ml_frameworks_df_2022 = ml_frameworks_df_2022.drop(columns=columns_to_combine)\n",
    "# ml_frameworks_df_2022['TensorFlow/Keras'].replace([True], \"TensorFlow/Keras\",inplace=True)\n",
    "# ml_frameworks_df_2022['TensorFlow/Keras'].replace([False], np.nan,inplace=True)\n",
    "# # Same with PyTorch and PyTorch Lightning\n",
    "# columns_to_combine = ['PyTorch ','PyTorch Lightning ','Fast.ai ']\n",
    "# ml_frameworks_df_2022['PyTorch/PyTorch Lightning/Fast.ai'] = (ml_frameworks_df_2022[columns_to_combine].notna()).any(axis=\"columns\")\n",
    "# ml_frameworks_df_2022 = ml_frameworks_df_2022.drop(columns=columns_to_combine)\n",
    "# ml_frameworks_df_2022['PyTorch/PyTorch Lightning/Fast.ai'].replace([True], \"PyTorch/PyTorch Lightning/Fast.ai\",inplace=True)\n",
    "# ml_frameworks_df_2022['PyTorch/PyTorch Lightning/Fast.ai'].replace([False], np.nan,inplace=True)\n",
    "# # Same with Xgboost, LightGBM, and CatBoost\n",
    "# columns_to_combine = ['Xgboost ','LightGBM ','CatBoost ']\n",
    "# ml_frameworks_df_2022['Xgboost/LightGBM/CatBoost'] = (ml_frameworks_df_2022[columns_to_combine].notna()).any(axis=\"columns\")\n",
    "# ml_frameworks_df_2022 = ml_frameworks_df_2022.drop(columns=columns_to_combine)\n",
    "# ml_frameworks_df_2022['Xgboost/LightGBM/CatBoost'].replace([True], \"Xgboost/LightGBM/CatBoost\",inplace=True)\n",
    "# ml_frameworks_df_2022['Xgboost/LightGBM/CatBoost'].replace([False], np.nan,inplace=True)\n",
    "\n",
    "# ml_frameworks_df_2022 = ml_frameworks_df_2022.loc[:, \n",
    "#         ['Scikit—learn ','TensorFlow/Keras','PyTorch/PyTorch Lightning/Fast.ai','Xgboost/LightGBM/CatBoost']] \n",
    "# title_for_chart = \"Most popular consolidated machine learning frameworks\"\n",
    "# bar_chart_multiple_choice_multiple_selection(ml_frameworks_df_2022,title_for_chart,orientation='h')"
   ]
  },
  {
   "cell_type": "code",
   "execution_count": null,
   "metadata": {
    "_kg_hide-input": true,
    "_kg_hide-output": true,
    "execution": {
     "iopub.execute_input": "2022-10-06T13:51:16.516682Z",
     "iopub.status.busy": "2022-10-06T13:51:16.516238Z",
     "iopub.status.idle": "2022-10-06T13:51:18.403405Z",
     "shell.execute_reply": "2022-10-06T13:51:18.402253Z",
     "shell.execute_reply.started": "2022-10-06T13:51:16.516648Z"
    },
    "papermill": {
     "duration": 1.894305,
     "end_time": "2022-09-28T17:21:29.000356",
     "exception": false,
     "start_time": "2022-09-28T17:21:27.106051",
     "status": "completed"
    },
    "tags": []
   },
   "outputs": [],
   "source": [
    "# question_of_interest_old = 'What machine learning frameworks have you used in the past 5 years?'\n",
    "# question_of_interest_new = 'Which of the following machine learning frameworks do you use on a regular basis?'\n",
    "# responses_df_2018.columns = responses_df_2018.columns.str.replace(question_of_interest_old, question_of_interest_new,regex=False)\n",
    "# question_of_interest = 'Which of the following machine learning frameworks do you use on a regular basis?'\n",
    "# ml_df_combined, ml_df_combined_counts = combine_subset_of_data_from_multiple_years_for_multiple_choice_multiple_response_questions(question_of_interest)\n",
    "\n",
    "# columns_to_combine = ['TensorFlow','TensorFlow ']\n",
    "# ml_df_combined['TensorFlow_'] = (ml_df_combined[columns_to_combine].notna()).any(axis=\"columns\")\n",
    "# ml_df_combined = ml_df_combined.drop(columns=columns_to_combine)\n",
    "# ml_df_combined['TensorFlow_'].replace([True], \"TensorFlow\",inplace=True)\n",
    "# ml_df_combined['TensorFlow_'].replace([False], np.nan,inplace=True)\n",
    "# ml_df_combined.columns = ml_df_combined.columns.str.replace('TensorFlow_', 'TensorFlow ',regex=False)\n",
    "\n",
    "# columns_to_combine = ['Keras','Keras ']\n",
    "# ml_df_combined['Keras_'] = (ml_df_combined[columns_to_combine].notna()).any(axis=\"columns\")\n",
    "# ml_df_combined = ml_df_combined.drop(columns=columns_to_combine)\n",
    "# ml_df_combined['Keras_'].replace([True], \"Keras\",inplace=True)\n",
    "# ml_df_combined['Keras_'].replace([False], np.nan,inplace=True)\n",
    "# ml_df_combined.columns = ml_df_combined.columns.str.replace('Keras_', 'Keras ',regex=False)\n",
    "\n",
    "# columns_to_combine = ['PyTorch','PyTorch ']\n",
    "# ml_df_combined['PyTorch_'] = (ml_df_combined[columns_to_combine].notna()).any(axis=\"columns\")\n",
    "# ml_df_combined = ml_df_combined.drop(columns=columns_to_combine)\n",
    "# ml_df_combined['PyTorch_'].replace([True], \"PyTorch\",inplace=True)\n",
    "# ml_df_combined['PyTorch_'].replace([False], np.nan,inplace=True)\n",
    "# ml_df_combined.columns = ml_df_combined.columns.str.replace('PyTorch_', 'PyTorch ',regex=False)\n",
    "\n",
    "# columns_to_combine = ['Scikit—learn ','Learn','learn ']\n",
    "# ml_df_combined['Scikit—learn_'] = (ml_df_combined[columns_to_combine].notna()).any(axis=\"columns\")\n",
    "# ml_df_combined = ml_df_combined.drop(columns=columns_to_combine)\n",
    "# ml_df_combined['Scikit—learn_'].replace([True], \"Scikit—learn\",inplace=True)\n",
    "# ml_df_combined['Scikit—learn_'].replace([False], np.nan,inplace=True)\n",
    "# ml_df_combined.columns = ml_df_combined.columns.str.replace('Scikit—learn_', 'Scikit-learn ',regex=False)\n",
    "\n",
    "# ml_df_combined_counts_2 = ml_df_combined.groupby('year').count().reset_index()\n",
    "# ml_df_combined_percentages = convert_df_of_counts_to_percentages(ml_df_combined, ml_df_combined_counts_2)\n",
    "\n",
    "# ml_df_combined_percentages = ml_df_combined_percentages.loc[:, \n",
    "#         ['year','Scikit-learn ','TensorFlow ','Keras ','PyTorch ','None','Other']] \n",
    "# title_for_chart = 'Most Popular Machine Learning Frameworks 2018-2022'\n",
    "# title_for_y_axis = '% of respondents'\n",
    "# df = ml_df_combined_percentages.melt(id_vars=['year'], \n",
    "#                                            value_vars=['Scikit-learn ','TensorFlow ','Keras ','PyTorch ','None','Other'])\n",
    "\n",
    "# df = df.sort_values(by=['year','value'], ascending=True)\n",
    "# df = df.rename(columns={'variable': ''})\n",
    "# bar_chart_multiple_years(df,'','value',title_for_chart,title_for_y_axis)"
   ]
  },
  {
   "cell_type": "code",
   "execution_count": null,
   "metadata": {
    "_kg_hide-input": true,
    "execution": {
     "iopub.execute_input": "2022-10-06T13:51:18.405892Z",
     "iopub.status.busy": "2022-10-06T13:51:18.405042Z",
     "iopub.status.idle": "2022-10-06T13:51:20.221308Z",
     "shell.execute_reply": "2022-10-06T13:51:20.22051Z",
     "shell.execute_reply.started": "2022-10-06T13:51:18.405857Z"
    },
    "papermill": {
     "duration": 1.833367,
     "end_time": "2022-09-28T17:21:30.872007",
     "exception": false,
     "start_time": "2022-09-28T17:21:29.03864",
     "status": "completed"
    },
    "tags": []
   },
   "outputs": [],
   "source": [
    "# question_of_interest_old = 'What machine learning frameworks have you used in the past 5 years?'\n",
    "# question_of_interest_new = 'Which of the following machine learning frameworks do you use on a regular basis?'\n",
    "# responses_df_2018.columns = responses_df_2018.columns.str.replace(question_of_interest_old, question_of_interest_new,regex=False)\n",
    "# question_of_interest = 'Which of the following machine learning frameworks do you use on a regular basis?'\n",
    "# ml_df_combined, ml_df_combined_counts = combine_subset_of_data_from_multiple_years_for_multiple_choice_multiple_response_questions(question_of_interest)\n",
    "# ml_df_combined_2 = ml_df_combined.copy()\n",
    "\n",
    "# # Combine TensorFlow and Keras into an \"either TensorFlow OR Keras\" column\n",
    "# columns_to_combine = ['TensorFlow','TensorFlow ','Keras','Keras ']\n",
    "# ml_df_combined_2['TensorFlow/Keras'] = (ml_df_combined_2[columns_to_combine].notna()).any(axis=\"columns\")\n",
    "# ml_df_combined_2 = ml_df_combined_2.drop(columns=columns_to_combine)\n",
    "# ml_df_combined_2['TensorFlow/Keras'].replace([True], \"TensorFlow/Keras\",inplace=True)\n",
    "# ml_df_combined_2['TensorFlow/Keras'].replace([False], np.nan,inplace=True)\n",
    "# # Same with PyTorch and PyTorch Lightning\n",
    "# columns_to_combine = ['PyTorch','PyTorch ','PyTorch Lightning ','Fast.ai ','Fastai']\n",
    "# ml_df_combined_2['PyTorch/Lightning/Fast.ai'] = (ml_df_combined_2[columns_to_combine].notna()).any(axis=\"columns\")\n",
    "# ml_df_combined_2 = ml_df_combined_2.drop(columns=columns_to_combine)\n",
    "# ml_df_combined_2['PyTorch/Lightning/Fast.ai'].replace([True], \"PyTorch/PyTorch Lightning/Fast.ai\",inplace=True)\n",
    "# ml_df_combined_2['PyTorch/Lightning/Fast.ai'].replace([False], np.nan,inplace=True)\n",
    "# # Same with Xgboost, LightGBM, and CatBoost\n",
    "# columns_to_combine = ['Xgboost','Xgboost ','lightgbm','LightGBM ','catboost','CatBoost ']\n",
    "# ml_df_combined_2['Xgboost/LightGBM/CatBoost'] = (ml_df_combined_2[columns_to_combine].notna()).any(axis=\"columns\")\n",
    "# ml_df_combined_2 = ml_df_combined_2.drop(columns=columns_to_combine)\n",
    "# ml_df_combined_2['Xgboost/LightGBM/CatBoost'].replace([True], \"Xgboost/LightGBM/CatBoost\",inplace=True)\n",
    "# ml_df_combined_2['Xgboost/LightGBM/CatBoost'].replace([False], np.nan,inplace=True)\n",
    "# # Same with Scikit—learn, Scikit—learn , and Scikit-learn  \n",
    "# columns_to_combine = ['Scikit—learn ','Scikit—learn ','learn ','Learn']\n",
    "# ml_df_combined_2['Scikit-learn_'] = (ml_df_combined_2[columns_to_combine].notna()).any(axis=\"columns\")\n",
    "# ml_df_combined_2 = ml_df_combined_2.drop(columns=columns_to_combine)\n",
    "# ml_df_combined_2['Scikit-learn_'].replace([True], \"Scikit-learn_\",inplace=True)\n",
    "# ml_df_combined_2['Scikit-learn_'].replace([False], np.nan,inplace=True)\n",
    "# ml_df_combined_2.columns = ml_df_combined_2.columns.str.replace('Scikit-learn_', 'Scikit-learn',regex=False)\n",
    "\n",
    "# ml_df_combined_counts_2 = ml_df_combined_2.groupby('year').count().reset_index()\n",
    "# ml_df_combined_percentages = convert_df_of_counts_to_percentages(ml_df_combined_2, ml_df_combined_counts_2)\n",
    "# ml_df_combined_percentages = ml_df_combined_percentages.loc[:, \n",
    "#         ['year','Scikit-learn','TensorFlow/Keras','PyTorch/Lightning/Fast.ai','Xgboost/LightGBM/CatBoost']]\n",
    "\n",
    "# df = ml_df_combined_percentages.melt(id_vars=['year'], \n",
    "#                                            value_vars=['Scikit-learn','Xgboost/LightGBM/CatBoost','TensorFlow/Keras','PyTorch/Lightning/Fast.ai'])\n",
    "\n",
    "# df = df.sort_values(by=['year','value'], ascending=True)\n",
    "# df = df.rename(columns={'variable': ''})\n",
    "# title_for_chart = \"Most popular consolidated machine learning frameworks (2018-2022)\"\n",
    "# bar_chart_multiple_years(df,'','value',title_for_chart,title_for_y_axis)"
   ]
  },
  {
   "cell_type": "code",
   "execution_count": null,
   "metadata": {
    "execution": {
     "iopub.execute_input": "2022-10-06T13:51:20.223468Z",
     "iopub.status.busy": "2022-10-06T13:51:20.222515Z",
     "iopub.status.idle": "2022-10-06T13:51:20.474969Z",
     "shell.execute_reply": "2022-10-06T13:51:20.473978Z",
     "shell.execute_reply.started": "2022-10-06T13:51:20.223434Z"
    },
    "papermill": {
     "duration": 0.29509,
     "end_time": "2022-09-28T17:21:31.206381",
     "exception": false,
     "start_time": "2022-09-28T17:21:30.911291",
     "status": "completed"
    },
    "tags": []
   },
   "outputs": [],
   "source": [
    "# question_of_interest = 'Which of the following ML algorithms do you use on a regular basis?'\n",
    "# title_for_chart = \"Most popular machine learning algorithms\"\n",
    "# ml_algos_df_2022 = grab_subset_of_data(responses_df_2022, question_of_interest)\n",
    "# bar_chart_multiple_choice_multiple_selection(ml_algos_df_2022,title_for_chart,orientation='h')"
   ]
  },
  {
   "cell_type": "code",
   "execution_count": null,
   "metadata": {
    "execution": {
     "iopub.execute_input": "2022-10-06T13:51:20.476587Z",
     "iopub.status.busy": "2022-10-06T13:51:20.476227Z",
     "iopub.status.idle": "2022-10-06T13:51:20.710689Z",
     "shell.execute_reply": "2022-10-06T13:51:20.709538Z",
     "shell.execute_reply.started": "2022-10-06T13:51:20.476559Z"
    },
    "papermill": {
     "duration": 0.270491,
     "end_time": "2022-09-28T17:21:31.516314",
     "exception": false,
     "start_time": "2022-09-28T17:21:31.245823",
     "status": "completed"
    },
    "tags": []
   },
   "outputs": [],
   "source": [
    "# question_of_interest = 'Which categories of computer vision methods do you use on a regular basis?'\n",
    "# title_for_chart = \"Most popular computer vision methods\"\n",
    "# cv_df_2022 = grab_subset_of_data(responses_df_2022, question_of_interest)\n",
    "# bar_chart_multiple_choice_multiple_selection(cv_df_2022,title_for_chart)"
   ]
  },
  {
   "cell_type": "code",
   "execution_count": null,
   "metadata": {
    "execution": {
     "iopub.execute_input": "2022-10-06T13:51:20.712914Z",
     "iopub.status.busy": "2022-10-06T13:51:20.712365Z",
     "iopub.status.idle": "2022-10-06T13:51:20.94114Z",
     "shell.execute_reply": "2022-10-06T13:51:20.939858Z",
     "shell.execute_reply.started": "2022-10-06T13:51:20.712864Z"
    },
    "papermill": {
     "duration": 0.267652,
     "end_time": "2022-09-28T17:21:31.822706",
     "exception": false,
     "start_time": "2022-09-28T17:21:31.555054",
     "status": "completed"
    },
    "tags": []
   },
   "outputs": [],
   "source": [
    "# question_of_interest = 'Which of the following natural language processing (NLP) methods do you use on a regular basis?'\n",
    "# title_for_chart = \"Most popular NLP methods\"\n",
    "# nlp_df_2022 = grab_subset_of_data(responses_df_2022, question_of_interest)\n",
    "# bar_chart_multiple_choice_multiple_selection(nlp_df_2022,title_for_chart)"
   ]
  },
  {
   "cell_type": "code",
   "execution_count": null,
   "metadata": {
    "_kg_hide-input": true,
    "execution": {
     "iopub.execute_input": "2022-10-06T13:51:20.94259Z",
     "iopub.status.busy": "2022-10-06T13:51:20.942288Z",
     "iopub.status.idle": "2022-10-06T13:51:21.563089Z",
     "shell.execute_reply": "2022-10-06T13:51:21.561931Z",
     "shell.execute_reply.started": "2022-10-06T13:51:20.942561Z"
    },
    "papermill": {
     "duration": 0.611522,
     "end_time": "2022-09-28T17:21:32.476593",
     "exception": false,
     "start_time": "2022-09-28T17:21:31.865071",
     "status": "completed"
    },
    "tags": []
   },
   "outputs": [],
   "source": [
    "# question_of_interest = 'Which of the following natural language processing (NLP) methods do you use on a regular basis?'\n",
    "\n",
    "# nlp_df_2022 = grab_subset_of_data(responses_df_2022, question_of_interest)\n",
    "# counts_2022 = nlp_df_2022[nlp_df_2022.columns[:]].count().sort_values(ascending=True)\n",
    "# percentages_2022 = counts_2022*100/len(nlp_df_2022)\n",
    "# transformers = 'Transformer language models (GPT—3, BERT, XLnet, etc)'\n",
    "# percentages_2022 = percentages_2022.rename({transformers: 'Transformers'})[['Transformers']]\n",
    "\n",
    "# nlp_df_2021 = grab_subset_of_data(responses_df_2021, question_of_interest)\n",
    "# counts_2021 = nlp_df_2021[nlp_df_2021.columns[:]].count().sort_values(ascending=True)\n",
    "# percentages_2021 = counts_2021*100/len(nlp_df_2021)\n",
    "# transformers = '3, BERT, XLnet, etc)'\n",
    "# percentages_2021 = percentages_2021.rename({transformers: 'Transformers'})[['Transformers']]\n",
    "\n",
    "# nlp_df_2020 = grab_subset_of_data(responses_df_2020, question_of_interest)\n",
    "# counts_2020 = nlp_df_2020[nlp_df_2020.columns[:]].count().sort_values(ascending=True)\n",
    "# percentages_2020 = counts_2020*100/len(nlp_df_2020)\n",
    "# transformers = '3, BERT, XLnet, etc)'\n",
    "# percentages_2020 = percentages_2020.rename({transformers: 'Transformers'})[['Transformers']]\n",
    "\n",
    "# nlp_df_2019 = grab_subset_of_data(responses_df_2019, question_of_interest)\n",
    "# counts_2019 = nlp_df_2019[nlp_df_2019.columns[:]].count().sort_values(ascending=True)\n",
    "# percentages_2019 = counts_2019*100/len(nlp_df_2019)\n",
    "# transformers = '2, BERT, XLnet, etc)'\n",
    "# percentages_2019 = percentages_2019.rename({transformers: 'Transformers'})[['Transformers']]\n",
    "\n",
    "# title_for_chart = 'Popularity of transformer architectures for NLP tasks 2019-2022'\n",
    "# title_for_y_axis = '% of respondents'\n",
    "\n",
    "# fig = go.Figure(data=[\n",
    "#     go.Bar(name='2019 Kaggle Survey', x=pd.Series(percentages_2019.keys()), y=pd.Series(percentages_2019.values),marker_color=px.colors.sequential.Blues[3]),\n",
    "#     go.Bar(name='2020 Kaggle Survey', x=pd.Series(percentages_2020.keys()), y=pd.Series(percentages_2020.values),marker_color=px.colors.sequential.Blues[5]),\n",
    "#     go.Bar(name='2021 Kaggle Survey', x=pd.Series(percentages_2021.keys()), y=pd.Series(percentages_2021.values),marker_color=px.colors.sequential.Blues[6]),\n",
    "#     go.Bar(name='2022 Kaggle Survey', x=pd.Series(percentages_2022.keys()), y=pd.Series(percentages_2022.values),marker_color=px.colors.sequential.Blues[8])])\n",
    "# fig.update_layout(barmode='group') \n",
    "# fig.update_layout(title=title_for_chart,yaxis=dict(title=title_for_y_axis))\n",
    "# fig.show()\n",
    "# fig.write_html('F:/Referensi LCA/Python/dataset/working/individual/data/'+title_for_chart+'.html')\n",
    "# percentages_2019.to_csv('F:/Referensi LCA/Python/dataset/working/individual/data/2019_'+title_for_chart+'.csv',index=True)\n",
    "# percentages_2020.to_csv('F:/Referensi LCA/Python/dataset/working/individual/data/2020_'+title_for_chart+'.csv',index=True)\n",
    "# percentages_2021.to_csv('F:/Referensi LCA/Python/dataset/working/individual/data/2021_'+title_for_chart+'.csv',index=True)\n",
    "# percentages_2022.to_csv('F:/Referensi LCA/Python/dataset/working/individual/data/2022_'+title_for_chart+'.csv',index=True)"
   ]
  },
  {
   "cell_type": "code",
   "execution_count": null,
   "metadata": {
    "execution": {
     "iopub.execute_input": "2022-10-06T13:51:21.565514Z",
     "iopub.status.busy": "2022-10-06T13:51:21.564633Z",
     "iopub.status.idle": "2022-10-06T13:51:21.808954Z",
     "shell.execute_reply": "2022-10-06T13:51:21.807789Z",
     "shell.execute_reply.started": "2022-10-06T13:51:21.565472Z"
    },
    "papermill": {
     "duration": 0.279832,
     "end_time": "2022-09-28T17:21:32.796459",
     "exception": false,
     "start_time": "2022-09-28T17:21:32.516627",
     "status": "completed"
    },
    "tags": []
   },
   "outputs": [],
   "source": [
    "# question_of_interest = 'Do you download pre—trained model weights from any of the following services?'\n",
    "# title_for_chart = \"Most popular ML model repositories\"\n",
    "# models_df_2022 = grab_subset_of_data(responses_df_2022, question_of_interest)\n",
    "# bar_chart_multiple_choice_multiple_selection(models_df_2022,title_for_chart,orientation='h')"
   ]
  },
  {
   "cell_type": "code",
   "execution_count": null,
   "metadata": {
    "_kg_hide-input": false,
    "execution": {
     "iopub.execute_input": "2022-10-06T13:51:21.811448Z",
     "iopub.status.busy": "2022-10-06T13:51:21.810488Z",
     "iopub.status.idle": "2022-10-06T13:51:21.894558Z",
     "shell.execute_reply": "2022-10-06T13:51:21.893265Z",
     "shell.execute_reply.started": "2022-10-06T13:51:21.811413Z"
    },
    "papermill": {
     "duration": 0.125324,
     "end_time": "2022-09-28T17:21:32.962211",
     "exception": false,
     "start_time": "2022-09-28T17:21:32.836887",
     "status": "completed"
    },
    "tags": []
   },
   "outputs": [],
   "source": [
    "# question_of_interest = 'Which of the following ML model hubs/repositories do you use most often? - Selected Choice'\n",
    "# responses_in_order = [' Kaggle datasets ',' Huggingface Models ','  TensorFlow Hub ',\n",
    "#                       ' PyTorch Hub ',' Timm ',' NVIDIA NGC models  ',' ONNX models ',' Jumpstart ']\n",
    "# percentages = count_then_return_percent(responses_df_2022,question_of_interest).sort_index()[responses_in_order].iloc[::-1]\n",
    "# title_for_chart = \"Favorite ML model repository (for users of multiple repositories)\"\n",
    "# title_for_y_axis = '% of respondents'\n",
    "# orientation_for_chart = 'h'\n",
    "\n",
    "# bar_chart_multiple_choice(response_counts=percentages,\n",
    "#                  title=title_for_chart,\n",
    "#                  y_axis_title=title_for_y_axis,\n",
    "#                  orientation=orientation_for_chart,\n",
    "#                  num_choices=9) "
   ]
  },
  {
   "cell_type": "code",
   "execution_count": null,
   "metadata": {
    "execution": {
     "iopub.execute_input": "2022-10-06T13:51:21.896436Z",
     "iopub.status.busy": "2022-10-06T13:51:21.896061Z",
     "iopub.status.idle": "2022-10-06T13:51:21.98199Z",
     "shell.execute_reply": "2022-10-06T13:51:21.981199Z",
     "shell.execute_reply.started": "2022-10-06T13:51:21.896404Z"
    },
    "papermill": {
     "duration": 0.128781,
     "end_time": "2022-09-28T17:21:33.132001",
     "exception": false,
     "start_time": "2022-09-28T17:21:33.00322",
     "status": "completed"
    },
    "tags": []
   },
   "outputs": [],
   "source": [
    "# question_of_interest = 'Select the title most similar to your current role (or most recent title if retired): - Selected Choice'\n",
    "# percentages = count_then_return_percent(responses_df_2022,question_of_interest).sort_index()\n",
    "# percentages = percentages.sort_values(ascending=True)\n",
    "# title_for_chart = \"Most common job titles on Kaggle\"\n",
    "# title_for_y_axis = '% of respondents'\n",
    "\n",
    "# bar_chart_multiple_choice(response_counts=percentages,\n",
    "#                  title=title_for_chart,\n",
    "#                  y_axis_title=title_for_y_axis,\n",
    "#                  orientation=orientation_for_chart,\n",
    "#                  num_choices=15) "
   ]
  },
  {
   "cell_type": "code",
   "execution_count": null,
   "metadata": {
    "execution": {
     "iopub.execute_input": "2022-10-06T13:51:21.983455Z",
     "iopub.status.busy": "2022-10-06T13:51:21.983131Z",
     "iopub.status.idle": "2022-10-06T13:51:22.096089Z",
     "shell.execute_reply": "2022-10-06T13:51:22.095044Z",
     "shell.execute_reply.started": "2022-10-06T13:51:21.983426Z"
    },
    "papermill": {
     "duration": 0.169841,
     "end_time": "2022-09-28T17:21:33.34237",
     "exception": false,
     "start_time": "2022-09-28T17:21:33.172529",
     "status": "completed"
    },
    "tags": []
   },
   "outputs": [],
   "source": [
    "# question_of_interest = 'Select the title most similar to your current role (or most recent title if retired): - Selected Choice'\n",
    "# title_for_chart = \"Most common job titles on Kaggle (2018-2022)\"\n",
    "# title_for_y_axis = '% of respondents'\n",
    "# job_df_combined = combine_subset_of_data_from_multiple_years(question_of_interest,title_for_x_axis)\n",
    "# job_df_combined.replace([\"Data Analyst (Business, Marketing, Financial, Quantitative, etc)\"], 'Data Analyst',inplace=True)\n",
    "# job_df_combined = job_df_combined.rename({\"Data Analyst (Business, Marketing, Financial, Quantitative, etc)\": 'Data Analyst'})\n",
    "# job_df_combined = job_df_combined[job_df_combined.index.isin(['Data Analyst','Data Engineer','Data Scientist','Research Scientist','Software Engineer'])]\n",
    "\n",
    "# bar_chart_multiple_years(job_df_combined,\n",
    "#                                    title_for_x_axis,\n",
    "#                                    column_of_interest,\n",
    "#                                    title_for_chart,\n",
    "#                                    title_for_y_axis)"
   ]
  },
  {
   "cell_type": "code",
   "execution_count": null,
   "metadata": {
    "execution": {
     "iopub.execute_input": "2022-10-06T13:51:22.098012Z",
     "iopub.status.busy": "2022-10-06T13:51:22.097656Z",
     "iopub.status.idle": "2022-10-06T13:51:22.179967Z",
     "shell.execute_reply": "2022-10-06T13:51:22.178757Z",
     "shell.execute_reply.started": "2022-10-06T13:51:22.09798Z"
    },
    "papermill": {
     "duration": 0.133353,
     "end_time": "2022-09-28T17:21:33.532303",
     "exception": false,
     "start_time": "2022-09-28T17:21:33.39895",
     "status": "completed"
    },
    "tags": []
   },
   "outputs": [],
   "source": [
    "# question_of_interest = 'In what industry is your current employer/contract (or your most recent employer if retired)? - Selected Choice'\n",
    "# percentages = count_then_return_percent(responses_df_2022,question_of_interest).sort_index()\n",
    "# percentages = percentages.sort_values(ascending=True)\n",
    "# title_for_chart = 'Most common industries of employment on Kaggle'\n",
    "# title_for_y_axis = '% of respondents'\n",
    "  \n",
    "# bar_chart_multiple_choice(response_counts=percentages,\n",
    "#                  title=title_for_chart,\n",
    "#                  y_axis_title=title_for_y_axis,\n",
    "#                  orientation=orientation_for_chart) "
   ]
  },
  {
   "cell_type": "code",
   "execution_count": null,
   "metadata": {
    "execution": {
     "iopub.execute_input": "2022-10-06T13:51:22.18164Z",
     "iopub.status.busy": "2022-10-06T13:51:22.181296Z",
     "iopub.status.idle": "2022-10-06T13:51:22.26462Z",
     "shell.execute_reply": "2022-10-06T13:51:22.263393Z",
     "shell.execute_reply.started": "2022-10-06T13:51:22.181608Z"
    },
    "papermill": {
     "duration": 0.124592,
     "end_time": "2022-09-28T17:21:33.697184",
     "exception": false,
     "start_time": "2022-09-28T17:21:33.572592",
     "status": "completed"
    },
    "tags": []
   },
   "outputs": [],
   "source": [
    "# question_of_interest = 'What is the size of the company where you are employed?'\n",
    "# responses_in_order = ['0-49 employees',\n",
    "#                       '50-249 employees','250-999 employees',\n",
    "#                       \"1000-9,999 employees\",\"10,000 or more employees\"]\n",
    "# percentages = count_then_return_percent(responses_df_2022,question_of_interest).sort_index()[responses_in_order]\n",
    "# title_for_chart = 'Most common company sizes for Kagglers'\n",
    "# title_for_y_axis = '% of respondents'\n",
    "  \n",
    "# bar_chart_multiple_choice(response_counts=percentages,\n",
    "#                  title=title_for_chart,\n",
    "#                  y_axis_title=title_for_y_axis,\n",
    "#                  orientation=orientation_for_chart) "
   ]
  },
  {
   "cell_type": "code",
   "execution_count": null,
   "metadata": {
    "execution": {
     "iopub.execute_input": "2022-10-06T13:51:22.266175Z",
     "iopub.status.busy": "2022-10-06T13:51:22.265872Z",
     "iopub.status.idle": "2022-10-06T13:51:22.349728Z",
     "shell.execute_reply": "2022-10-06T13:51:22.348601Z",
     "shell.execute_reply.started": "2022-10-06T13:51:22.266147Z"
    },
    "papermill": {
     "duration": 0.124683,
     "end_time": "2022-09-28T17:21:33.863423",
     "exception": false,
     "start_time": "2022-09-28T17:21:33.73874",
     "status": "completed"
    },
    "tags": []
   },
   "outputs": [],
   "source": [
    "# question_of_interest = 'Approximately how many individuals are responsible for data science workloads at your place of business?'\n",
    "# responses_in_order = ['0','1-2','3-4','5-9','10-14','15-19','20+']\n",
    "# percentages = count_then_return_percent(responses_df_2022,question_of_interest).sort_index()[responses_in_order]\n",
    "# title_for_chart = 'Most common data science team sizes'\n",
    "# title_for_y_axis = '% of respondents'\n",
    "  \n",
    "# bar_chart_multiple_choice(response_counts=percentages,\n",
    "#                  title=title_for_chart,\n",
    "#                  y_axis_title=title_for_y_axis,\n",
    "#                  orientation=orientation_for_chart) "
   ]
  },
  {
   "cell_type": "code",
   "execution_count": null,
   "metadata": {
    "_kg_hide-input": true,
    "execution": {
     "iopub.execute_input": "2022-10-06T13:51:22.351777Z",
     "iopub.status.busy": "2022-10-06T13:51:22.351417Z",
     "iopub.status.idle": "2022-10-06T13:51:22.434402Z",
     "shell.execute_reply": "2022-10-06T13:51:22.433291Z",
     "shell.execute_reply.started": "2022-10-06T13:51:22.351745Z"
    },
    "papermill": {
     "duration": 0.126302,
     "end_time": "2022-09-28T17:21:34.030644",
     "exception": false,
     "start_time": "2022-09-28T17:21:33.904342",
     "status": "completed"
    },
    "tags": []
   },
   "outputs": [],
   "source": [
    "# question_of_interest = 'Does your current employer incorporate machine learning methods into their business?'\n",
    "# responses_in_order = ['No (we do not use ML methods)',\n",
    "#                     'I do not know',\n",
    "#                     'We are exploring ML methods (and may one day put a model into production)',\n",
    "#                     'We recently started using ML methods (i.e., models in production for less than 2 years)',\n",
    "#                     'We have well established ML methods (i.e., models in production for more than 2 years)']\n",
    "\n",
    "# percentages = count_then_return_percent(responses_df_2022,question_of_interest).sort_index()[responses_in_order]\n",
    "# title_for_chart = 'Most common \"ML maturity level\" of organizations'\n",
    "# title_for_y_axis = '% of respondents'\n",
    "  \n",
    "# bar_chart_multiple_choice(response_counts=percentages,\n",
    "#                  title=title_for_chart,\n",
    "#                  y_axis_title=title_for_y_axis,\n",
    "#                  orientation=orientation_for_chart) "
   ]
  },
  {
   "cell_type": "code",
   "execution_count": null,
   "metadata": {
    "execution": {
     "iopub.execute_input": "2022-10-06T13:51:22.436515Z",
     "iopub.status.busy": "2022-10-06T13:51:22.436158Z",
     "iopub.status.idle": "2022-10-06T13:51:22.547418Z",
     "shell.execute_reply": "2022-10-06T13:51:22.546336Z",
     "shell.execute_reply.started": "2022-10-06T13:51:22.436486Z"
    },
    "papermill": {
     "duration": 0.159151,
     "end_time": "2022-09-28T17:21:34.232319",
     "exception": false,
     "start_time": "2022-09-28T17:21:34.073168",
     "status": "completed"
    },
    "tags": []
   },
   "outputs": [],
   "source": [
    "# question_of_interest = 'Does your current employer incorporate machine learning methods into their business?'\n",
    "# title_for_chart = \"ML maturity levels for organizations (2018-2022)\"\n",
    "# title_for_y_axis = '% of respondents'\n",
    "# title_for_x_axis = ''\n",
    "# maturity_df_combined = combine_subset_of_data_from_multiple_years(question_of_interest,title_for_x_axis).sort_values(by=['year','percentage'], ascending=True)\n",
    "\n",
    "# bar_chart_multiple_years(maturity_df_combined,\n",
    "#                                    title_for_x_axis,\n",
    "#                                    column_of_interest,\n",
    "#                                    title_for_chart,\n",
    "#                                    title_for_y_axis)"
   ]
  },
  {
   "cell_type": "code",
   "execution_count": null,
   "metadata": {
    "_kg_hide-input": true,
    "execution": {
     "iopub.execute_input": "2022-10-06T13:51:22.551129Z",
     "iopub.status.busy": "2022-10-06T13:51:22.550808Z",
     "iopub.status.idle": "2022-10-06T13:51:22.781018Z",
     "shell.execute_reply": "2022-10-06T13:51:22.77986Z",
     "shell.execute_reply.started": "2022-10-06T13:51:22.551101Z"
    },
    "papermill": {
     "duration": 0.282697,
     "end_time": "2022-09-28T17:21:34.558835",
     "exception": false,
     "start_time": "2022-09-28T17:21:34.276138",
     "status": "completed"
    },
    "tags": []
   },
   "outputs": [],
   "source": [
    "# question_of_interest = 'Select any activities that make up an important part of your role at work'\n",
    "# title_for_chart = \"Most common data responsibilities\"\n",
    "# models_df_2022 = grab_subset_of_data(responses_df_2022, question_of_interest)\n",
    "# bar_chart_multiple_choice_multiple_selection(models_df_2022,title_for_chart,orientation='h')"
   ]
  },
  {
   "cell_type": "code",
   "execution_count": null,
   "metadata": {
    "_kg_hide-input": true,
    "execution": {
     "iopub.execute_input": "2022-10-06T13:51:22.786091Z",
     "iopub.status.busy": "2022-10-06T13:51:22.782837Z",
     "iopub.status.idle": "2022-10-06T13:51:22.872316Z",
     "shell.execute_reply": "2022-10-06T13:51:22.870961Z",
     "shell.execute_reply.started": "2022-10-06T13:51:22.786051Z"
    },
    "papermill": {
     "duration": 0.127266,
     "end_time": "2022-09-28T17:21:34.72996",
     "exception": false,
     "start_time": "2022-09-28T17:21:34.602694",
     "status": "completed"
    },
    "tags": []
   },
   "outputs": [],
   "source": [
    "# question_of_interest = 'What is your current yearly compensation (approximate $USD)?'\n",
    "# responses_in_order = ['$0-999',\n",
    "#                         '1,000-1,999',\n",
    "#                         '2,000-2,999',\n",
    "#                         '3,000-3,999',\n",
    "#                         '4,000-4,999',\n",
    "#                         '5,000-7,499',\n",
    "#                         '7,500-9,999',\n",
    "#                         '10,000-14,999',\n",
    "#                         '15,000-19,999',\n",
    "#                         '20,000-24,999',\n",
    "#                         '25,000-29,999',\n",
    "#                         '30,000-39,999',\n",
    "#                         '40,000-49,999',\n",
    "#                         '50,000-59,999',\n",
    "#                         '60,000-69,999',\n",
    "#                         '70,000-79,999',\n",
    "#                         '80,000-89,999',\n",
    "#                         '90,000-99,999',\n",
    "#                         '100,000-124,999',\n",
    "#                         '125,000-149,999',\n",
    "#                         '150,000-199,999',\n",
    "#                         '200,000-249,999',\n",
    "#                         '250,000-299,999',\n",
    "#                         '300,000-499,999',\n",
    "#                         '$500,000-999,999',\n",
    "#                         '>$1,000,000']\n",
    "\n",
    "# percentages = count_then_return_percent(responses_df_2022,question_of_interest).sort_index()[responses_in_order]\n",
    "# title_for_chart = 'Global salary distributions'\n",
    "# title_for_y_axis = '% of respondents'\n",
    "  \n",
    "# bar_chart_multiple_choice(response_counts=percentages,\n",
    "#                  title=title_for_chart,\n",
    "#                  y_axis_title=title_for_y_axis,\n",
    "#                  orientation=orientation_for_chart) "
   ]
  },
  {
   "cell_type": "code",
   "execution_count": null,
   "metadata": {
    "_kg_hide-input": true,
    "execution": {
     "iopub.execute_input": "2022-10-06T13:51:22.874081Z",
     "iopub.status.busy": "2022-10-06T13:51:22.873755Z",
     "iopub.status.idle": "2022-10-06T13:51:22.982402Z",
     "shell.execute_reply": "2022-10-06T13:51:22.981173Z",
     "shell.execute_reply.started": "2022-10-06T13:51:22.874052Z"
    },
    "papermill": {
     "duration": 0.147686,
     "end_time": "2022-09-28T17:21:34.920427",
     "exception": false,
     "start_time": "2022-09-28T17:21:34.772741",
     "status": "completed"
    },
    "tags": []
   },
   "outputs": [],
   "source": [
    "# question_of_interest = 'What is your current yearly compensation (approximate $USD)?'\n",
    "# USA_responses_df_2022 = responses_df_2022[responses_df_2022['In which country do you currently reside?']=='United States of America'] \n",
    "# responses_in_order = ['$0-999',\n",
    "#                         '1,000-1,999',\n",
    "#                         '2,000-2,999',\n",
    "#                         '3,000-3,999',\n",
    "#                         #'4,000-4,999',\n",
    "#                         '5,000-7,499',\n",
    "#                         '7,500-9,999',\n",
    "#                         '10,000-14,999',\n",
    "#                         '15,000-19,999',\n",
    "#                         '20,000-24,999',\n",
    "#                         '25,000-29,999',\n",
    "#                         '30,000-39,999',\n",
    "#                         '40,000-49,999',\n",
    "#                         '50,000-59,999',\n",
    "#                         '60,000-69,999',\n",
    "#                         '70,000-79,999',\n",
    "#                         '80,000-89,999',\n",
    "#                         '90,000-99,999',\n",
    "#                         '100,000-124,999',\n",
    "#                         '125,000-149,999',\n",
    "#                         '150,000-199,999',\n",
    "#                         '200,000-249,999',\n",
    "#                         '250,000-299,999',\n",
    "#                         '300,000-499,999',\n",
    "#                         '$500,000-999,999',\n",
    "#                         '>$1,000,000']\n",
    "\n",
    "\n",
    "# percentages = count_then_return_percent(USA_responses_df_2022,question_of_interest).sort_index()[responses_in_order]\n",
    "# title_for_chart = 'Salary distributions in the USA'\n",
    "# title_for_y_axis = '% of respondents'\n",
    "  \n",
    "# bar_chart_multiple_choice(response_counts=percentages,\n",
    "#                  title=title_for_chart,\n",
    "#                  y_axis_title=title_for_y_axis,\n",
    "#                  orientation=orientation_for_chart,\n",
    "#                  num_choices=20) "
   ]
  },
  {
   "cell_type": "code",
   "execution_count": null,
   "metadata": {
    "_kg_hide-input": true,
    "execution": {
     "iopub.execute_input": "2022-10-06T13:51:22.984093Z",
     "iopub.status.busy": "2022-10-06T13:51:22.983732Z",
     "iopub.status.idle": "2022-10-06T13:51:23.109856Z",
     "shell.execute_reply": "2022-10-06T13:51:23.108701Z",
     "shell.execute_reply.started": "2022-10-06T13:51:22.98406Z"
    },
    "papermill": {
     "duration": 0.174616,
     "end_time": "2022-09-28T17:21:35.139861",
     "exception": false,
     "start_time": "2022-09-28T17:21:34.965245",
     "status": "completed"
    },
    "tags": []
   },
   "outputs": [],
   "source": [
    "# question_of_interest = 'What is your current yearly compensation (approximate $USD)?'\n",
    "# India_responses_df_2022 = responses_df_2022[responses_df_2022['In which country do you currently reside?']=='India'] \n",
    "# responses_in_order = ['$0-999',\n",
    "#                         '1,000-1,999',\n",
    "#                         '2,000-2,999',\n",
    "#                         '3,000-3,999',\n",
    "#                         '4,000-4,999',\n",
    "#                         '5,000-7,499',\n",
    "#                         '7,500-9,999',\n",
    "#                         '10,000-14,999',\n",
    "#                         '15,000-19,999',\n",
    "#                         '20,000-24,999',\n",
    "#                         '25,000-29,999',\n",
    "#                         '30,000-39,999',\n",
    "#                         '40,000-49,999',\n",
    "#                         '50,000-59,999',\n",
    "#                         '60,000-69,999',\n",
    "#                         '70,000-79,999',\n",
    "#                         '80,000-89,999',\n",
    "#                         '90,000-99,999',\n",
    "#                         '100,000-124,999',\n",
    "#                         '125,000-149,999',\n",
    "#                         '150,000-199,999',\n",
    "#                         '200,000-249,999',\n",
    "#                         '250,000-299,999',\n",
    "#                         '300,000-499,999',\n",
    "#                         '$500,000-999,999',\n",
    "#                         '>$1,000,000']\n",
    "\n",
    "\n",
    "# percentages = count_then_return_percent(India_responses_df_2022,question_of_interest).sort_index()[responses_in_order]\n",
    "# title_for_chart = 'Salary distributions in India'\n",
    "# title_for_y_axis = '% of respondents'\n",
    "  \n",
    "# bar_chart_multiple_choice(response_counts=percentages,\n",
    "#                  title=title_for_chart,\n",
    "#                  y_axis_title=title_for_y_axis,\n",
    "#                  orientation=orientation_for_chart,\n",
    "#                  num_choices=20) "
   ]
  },
  {
   "cell_type": "code",
   "execution_count": null,
   "metadata": {
    "_kg_hide-input": true,
    "execution": {
     "iopub.execute_input": "2022-10-06T13:51:23.112821Z",
     "iopub.status.busy": "2022-10-06T13:51:23.11194Z",
     "iopub.status.idle": "2022-10-06T13:51:23.195653Z",
     "shell.execute_reply": "2022-10-06T13:51:23.194467Z",
     "shell.execute_reply.started": "2022-10-06T13:51:23.112774Z"
    },
    "papermill": {
     "duration": 0.129285,
     "end_time": "2022-09-28T17:21:35.311918",
     "exception": false,
     "start_time": "2022-09-28T17:21:35.182633",
     "status": "completed"
    },
    "tags": []
   },
   "outputs": [],
   "source": [
    "# responses_in_order = ['$0 ($USD)',\n",
    "#                     '$1-$99',\n",
    "#                     '$100-$999',\n",
    "#                     '$1000-$9,999',\n",
    "#                     '$10,000-$99,999',\n",
    "#                     '$100,000 or more ($USD)']\n",
    "\n",
    "# question_of_interest = 'Approximately how much money have you spent on machine learning and/or cloud computing services at home or at work in the past 5 years (approximate $USD)?/n (approximate $USD)?'\n",
    "# percentages = count_then_return_percent(responses_df_2022,question_of_interest).sort_index()[responses_in_order]\n",
    "# title_for_chart = 'Money spent in the cloud'\n",
    "# title_for_y_axis = '% of respondents'\n",
    "  \n",
    "# bar_chart_multiple_choice(response_counts=percentages,\n",
    "#                  title=title_for_chart,\n",
    "#                  y_axis_title=title_for_y_axis,\n",
    "#                  orientation=orientation_for_chart) "
   ]
  },
  {
   "cell_type": "code",
   "execution_count": null,
   "metadata": {
    "execution": {
     "iopub.execute_input": "2022-10-06T13:51:23.198592Z",
     "iopub.status.busy": "2022-10-06T13:51:23.197732Z",
     "iopub.status.idle": "2022-10-06T13:51:23.439865Z",
     "shell.execute_reply": "2022-10-06T13:51:23.438736Z",
     "shell.execute_reply.started": "2022-10-06T13:51:23.198534Z"
    },
    "papermill": {
     "duration": 0.27763,
     "end_time": "2022-09-28T17:21:35.632709",
     "exception": false,
     "start_time": "2022-09-28T17:21:35.355079",
     "status": "completed"
    },
    "tags": []
   },
   "outputs": [],
   "source": [
    "# question_of_interest = 'Which of the following cloud computing platforms do you use? (Select all that apply)'\n",
    "# title_for_chart = \"Most popular cloud computing platforms\"\n",
    "# models_df_2022 = grab_subset_of_data(responses_df_2022, question_of_interest)\n",
    "# bar_chart_multiple_choice_multiple_selection(models_df_2022,title_for_chart,orientation='h')"
   ]
  },
  {
   "cell_type": "code",
   "execution_count": null,
   "metadata": {
    "_kg_hide-input": true,
    "execution": {
     "iopub.execute_input": "2022-10-06T13:51:23.442012Z",
     "iopub.status.busy": "2022-10-06T13:51:23.441561Z",
     "iopub.status.idle": "2022-10-06T13:51:24.432328Z",
     "shell.execute_reply": "2022-10-06T13:51:24.431091Z",
     "shell.execute_reply.started": "2022-10-06T13:51:23.441964Z"
    },
    "papermill": {
     "duration": 0.998279,
     "end_time": "2022-09-28T17:21:36.675993",
     "exception": false,
     "start_time": "2022-09-28T17:21:35.677714",
     "status": "completed"
    },
    "tags": []
   },
   "outputs": [],
   "source": [
    "# question_of_interest = 'Which of the following cloud computing platforms do you use? (Select all that apply)'\n",
    "# question_of_interest_old = 'Which of the following cloud computing platforms do you use on a regular basis?'\n",
    "# question_of_interest_old_2 = 'Which of the following cloud computing services have you used at work or school in the last 5 years?'\n",
    "# responses_df_2018.columns = responses_df_2018.columns.str.replace('Amazon Web Services (AWS)','Amazon Web Services (AWS) ',regex=False)\n",
    "# responses_df_2018.columns = responses_df_2018.columns.str.replace('Google Cloud Platform (GCP)','Google Cloud Platform (GCP) ',regex=False)\n",
    "# responses_df_2018.columns = responses_df_2018.columns.str.replace('Microsoft Azure','Microsoft Azure ',regex=False)\n",
    "# responses_df_2021.columns = responses_df_2021.columns.str.replace(question_of_interest_old, question_of_interest,regex=False)\n",
    "# responses_df_2020.columns = responses_df_2020.columns.str.replace(question_of_interest_old, question_of_interest,regex=False)\n",
    "# responses_df_2019.columns = responses_df_2019.columns.str.replace(question_of_interest_old, question_of_interest,regex=False)\n",
    "# responses_df_2018.columns = responses_df_2018.columns.str.replace(question_of_interest_old_2, question_of_interest,regex=False)\n",
    "# cloud_df_combined, cloud_df_combined_counts = combine_subset_of_data_from_multiple_years_for_multiple_choice_multiple_response_questions(question_of_interest)\n",
    "# cloud_df_combined_percentages = convert_df_of_counts_to_percentages(cloud_df_combined, cloud_df_combined_counts)\n",
    "# cloud_df_combined_percentages = cloud_df_combined_percentages.loc[:, \n",
    "# ['year','Amazon Web Services (AWS) ','Google Cloud Platform (GCP) ', 'Microsoft Azure ']]\n",
    "# title_for_chart = \"Most popular cloud computing platforms 2018-2022\"\n",
    "# title_for_y_axis = '% of respondents'\n",
    "# df = cloud_df_combined_percentages.melt(id_vars=['year'], \n",
    "#                                            value_vars=['Amazon Web Services (AWS) ',\n",
    "#                                                        'Google Cloud Platform (GCP) ', \n",
    "#                                                        'Microsoft Azure '])\n",
    "# df = df.rename(columns={'variable': ''})\n",
    "# bar_chart_multiple_years(df,'','value',title_for_chart,title_for_y_axis)\n"
   ]
  },
  {
   "cell_type": "code",
   "execution_count": null,
   "metadata": {
    "_kg_hide-input": true,
    "execution": {
     "iopub.execute_input": "2022-10-06T13:51:24.43443Z",
     "iopub.status.busy": "2022-10-06T13:51:24.433947Z",
     "iopub.status.idle": "2022-10-06T13:51:24.521455Z",
     "shell.execute_reply": "2022-10-06T13:51:24.520227Z",
     "shell.execute_reply.started": "2022-10-06T13:51:24.434385Z"
    },
    "papermill": {
     "duration": 0.132525,
     "end_time": "2022-09-28T17:21:36.853082",
     "exception": false,
     "start_time": "2022-09-28T17:21:36.720557",
     "status": "completed"
    },
    "tags": []
   },
   "outputs": [],
   "source": [
    "# question_of_interest = 'Of the cloud platforms that you are familiar with, which has the best developer experience (most enjoyable to use)? - Selected Choice'\n",
    "# responses_in_order = [' Amazon Web Services (AWS) ',\n",
    "#                       ' Google Cloud Platform (GCP) ',' Microsoft Azure ',\n",
    "#                       ' IBM Cloud / Red Hat ',' Oracle Cloud ',' VMware Cloud ',\n",
    "#                       ' SAP Cloud ',' Tencent Cloud ',' Alibaba Cloud ',\n",
    "#                       ' Huawei Cloud ']\n",
    "# percentages = count_then_return_percent(responses_df_2022,question_of_interest).sort_index()[responses_in_order].iloc[::-1]\n",
    "# title_for_chart = 'Best developer experience according to users of multiple cloud services'\n",
    "# title_for_y_axis = '% of respondents'\n",
    "  \n",
    "# bar_chart_multiple_choice(response_counts=percentages,\n",
    "#                  title=title_for_chart,\n",
    "#                  y_axis_title=title_for_y_axis,\n",
    "#                  orientation=orientation_for_chart,\n",
    "#                  num_choices=10) "
   ]
  },
  {
   "cell_type": "code",
   "execution_count": null,
   "metadata": {
    "_kg_hide-output": true,
    "execution": {
     "iopub.execute_input": "2022-10-06T13:51:24.525262Z",
     "iopub.status.busy": "2022-10-06T13:51:24.52492Z",
     "iopub.status.idle": "2022-10-06T13:51:24.744326Z",
     "shell.execute_reply": "2022-10-06T13:51:24.743016Z",
     "shell.execute_reply.started": "2022-10-06T13:51:24.52523Z"
    },
    "papermill": {
     "duration": 0.270367,
     "end_time": "2022-09-28T17:21:37.168168",
     "exception": false,
     "start_time": "2022-09-28T17:21:36.897801",
     "status": "completed"
    },
    "tags": []
   },
   "outputs": [],
   "source": [
    "# question_of_interest = 'Do you use any of the following cloud computing products?'\n",
    "# title_for_chart = \"Most popular compute products for AWS GCP and Azure customers\"\n",
    "# compute_df_2022 = grab_subset_of_data(responses_df_2022, question_of_interest)\n",
    "# bar_chart_multiple_choice_multiple_selection(compute_df_2022,title_for_chart,orientation='h')"
   ]
  },
  {
   "cell_type": "code",
   "execution_count": null,
   "metadata": {
    "_kg_hide-input": true,
    "_kg_hide-output": true,
    "execution": {
     "iopub.execute_input": "2022-10-06T13:51:24.746429Z",
     "iopub.status.busy": "2022-10-06T13:51:24.745969Z",
     "iopub.status.idle": "2022-10-06T13:51:24.973136Z",
     "shell.execute_reply": "2022-10-06T13:51:24.972054Z",
     "shell.execute_reply.started": "2022-10-06T13:51:24.746391Z"
    },
    "papermill": {
     "duration": 0.273426,
     "end_time": "2022-09-28T17:21:37.487659",
     "exception": false,
     "start_time": "2022-09-28T17:21:37.214233",
     "status": "completed"
    },
    "tags": []
   },
   "outputs": [],
   "source": [
    "# question_of_interest = 'Do you use any of the following data storage products?'\n",
    "# responses_df_2022.columns = responses_df_2022.columns.str.replace(\"(AWS/GCP/Azure customers only)\", \"for AWS GCP and Azure customers\")\n",
    "# title_for_chart = \"Most popular data storage products for AWS GCP and Azure customers\"\n",
    "# storage_df_2022 = grab_subset_of_data(responses_df_2022, question_of_interest)\n",
    "# bar_chart_multiple_choice_multiple_selection(storage_df_2022,title_for_chart,orientation='h')"
   ]
  },
  {
   "cell_type": "code",
   "execution_count": null,
   "metadata": {
    "execution": {
     "iopub.execute_input": "2022-10-06T13:51:24.975405Z",
     "iopub.status.busy": "2022-10-06T13:51:24.975036Z",
     "iopub.status.idle": "2022-10-06T13:51:25.217393Z",
     "shell.execute_reply": "2022-10-06T13:51:25.216247Z",
     "shell.execute_reply.started": "2022-10-06T13:51:24.975371Z"
    },
    "papermill": {
     "duration": 0.289486,
     "end_time": "2022-09-28T17:21:37.823394",
     "exception": false,
     "start_time": "2022-09-28T17:21:37.533908",
     "status": "completed"
    },
    "tags": []
   },
   "outputs": [],
   "source": [
    "# question_of_interest = 'Do you use any of the following data products (relational databases, data warehouses, data lakes, or similar)?'\n",
    "# title_for_chart = \"Most popular data storage products (relational databases, data lakes, and similar)\"\n",
    "# big_data_df_2022 = grab_subset_of_data(responses_df_2022, question_of_interest)\n",
    "# bar_chart_multiple_choice_multiple_selection(big_data_df_2022,title_for_chart,orientation='h')"
   ]
  },
  {
   "cell_type": "code",
   "execution_count": null,
   "metadata": {
    "execution": {
     "iopub.execute_input": "2022-10-06T13:51:25.219965Z",
     "iopub.status.busy": "2022-10-06T13:51:25.219509Z",
     "iopub.status.idle": "2022-10-06T13:51:25.472694Z",
     "shell.execute_reply": "2022-10-06T13:51:25.471569Z",
     "shell.execute_reply.started": "2022-10-06T13:51:25.21992Z"
    },
    "papermill": {
     "duration": 0.282958,
     "end_time": "2022-09-28T17:21:38.151633",
     "exception": false,
     "start_time": "2022-09-28T17:21:37.868675",
     "status": "completed"
    },
    "tags": []
   },
   "outputs": [],
   "source": [
    "# question_of_interest = 'Do you use any of the following business intelligence tools?'\n",
    "# title_for_chart = \"Most popular business intelligence tools\"\n",
    "# bi_df_2022 = grab_subset_of_data(responses_df_2022, question_of_interest)\n",
    "# bar_chart_multiple_choice_multiple_selection(bi_df_2022,title_for_chart,orientation='h')"
   ]
  },
  {
   "cell_type": "code",
   "execution_count": null,
   "metadata": {
    "execution": {
     "iopub.execute_input": "2022-10-06T13:51:25.47486Z",
     "iopub.status.busy": "2022-10-06T13:51:25.474475Z",
     "iopub.status.idle": "2022-10-06T13:51:25.71972Z",
     "shell.execute_reply": "2022-10-06T13:51:25.718521Z",
     "shell.execute_reply.started": "2022-10-06T13:51:25.474827Z"
    },
    "papermill": {
     "duration": 0.323488,
     "end_time": "2022-09-28T17:21:38.520219",
     "exception": false,
     "start_time": "2022-09-28T17:21:38.196731",
     "status": "completed"
    },
    "tags": []
   },
   "outputs": [],
   "source": [
    "# question_of_interest = 'Do you use any of the following managed machine learning products on a regular basis?'\n",
    "# title_for_chart = \"Most popular fully managed ML services\"\n",
    "# managed_ml_df_2022 = grab_subset_of_data(responses_df_2022, question_of_interest)\n",
    "# bar_chart_multiple_choice_multiple_selection(managed_ml_df_2022,title_for_chart,orientation='h')"
   ]
  },
  {
   "cell_type": "code",
   "execution_count": null,
   "metadata": {
    "execution": {
     "iopub.execute_input": "2022-10-06T13:51:25.721705Z",
     "iopub.status.busy": "2022-10-06T13:51:25.721239Z",
     "iopub.status.idle": "2022-10-06T13:51:25.94251Z",
     "shell.execute_reply": "2022-10-06T13:51:25.941169Z",
     "shell.execute_reply.started": "2022-10-06T13:51:25.721662Z"
    },
    "papermill": {
     "duration": 0.293026,
     "end_time": "2022-09-28T17:21:38.875671",
     "exception": false,
     "start_time": "2022-09-28T17:21:38.582645",
     "status": "completed"
    },
    "tags": []
   },
   "outputs": [],
   "source": [
    "# question_of_interest = 'Do you use any of the following automated machine learning tools?'\n",
    "# title_for_chart = \"Most popular automated machine learning products\"\n",
    "# automl_df_2022 = grab_subset_of_data(responses_df_2022, question_of_interest)\n",
    "# bar_chart_multiple_choice_multiple_selection(automl_df_2022,title_for_chart,orientation='h')"
   ]
  },
  {
   "cell_type": "code",
   "execution_count": null,
   "metadata": {
    "execution": {
     "iopub.execute_input": "2022-10-06T13:51:25.945293Z",
     "iopub.status.busy": "2022-10-06T13:51:25.944075Z",
     "iopub.status.idle": "2022-10-06T13:51:26.180681Z",
     "shell.execute_reply": "2022-10-06T13:51:26.1795Z",
     "shell.execute_reply.started": "2022-10-06T13:51:25.945225Z"
    },
    "papermill": {
     "duration": 0.279511,
     "end_time": "2022-09-28T17:21:39.201137",
     "exception": false,
     "start_time": "2022-09-28T17:21:38.921626",
     "status": "completed"
    },
    "tags": []
   },
   "outputs": [],
   "source": [
    "# question_of_interest = 'Do you use any of the following products to serve your machine learning models?'\n",
    "# title_for_chart = \"Most popular ML model serving tools\"\n",
    "# serving_df_2022 = grab_subset_of_data(responses_df_2022, question_of_interest)\n",
    "# bar_chart_multiple_choice_multiple_selection(serving_df_2022,title_for_chart,orientation='h')"
   ]
  },
  {
   "cell_type": "code",
   "execution_count": null,
   "metadata": {
    "execution": {
     "iopub.execute_input": "2022-10-06T13:51:26.1835Z",
     "iopub.status.busy": "2022-10-06T13:51:26.182262Z",
     "iopub.status.idle": "2022-10-06T13:51:26.420124Z",
     "shell.execute_reply": "2022-10-06T13:51:26.418972Z",
     "shell.execute_reply.started": "2022-10-06T13:51:26.183453Z"
    },
    "papermill": {
     "duration": 0.279431,
     "end_time": "2022-09-28T17:21:39.528196",
     "exception": false,
     "start_time": "2022-09-28T17:21:39.248765",
     "status": "completed"
    },
    "tags": []
   },
   "outputs": [],
   "source": [
    "# question_of_interest = 'Do you use any tools to help monitor your machine learning models and/or experiments?'\n",
    "# title_for_chart = \"Most popular ML experiment tracking tools\"\n",
    "# tracking_df_2022 = grab_subset_of_data(responses_df_2022, question_of_interest)\n",
    "# bar_chart_multiple_choice_multiple_selection(tracking_df_2022,title_for_chart,orientation='h')"
   ]
  },
  {
   "cell_type": "code",
   "execution_count": null,
   "metadata": {
    "execution": {
     "iopub.execute_input": "2022-10-06T13:51:26.423039Z",
     "iopub.status.busy": "2022-10-06T13:51:26.422015Z",
     "iopub.status.idle": "2022-10-06T13:51:26.653463Z",
     "shell.execute_reply": "2022-10-06T13:51:26.652478Z",
     "shell.execute_reply.started": "2022-10-06T13:51:26.422995Z"
    },
    "papermill": {
     "duration": 0.277048,
     "end_time": "2022-09-28T17:21:39.851764",
     "exception": false,
     "start_time": "2022-09-28T17:21:39.574716",
     "status": "completed"
    },
    "tags": []
   },
   "outputs": [],
   "source": [
    "# question_of_interest = 'Do you use any of the following responsible or ethical AI products in your machine learning practices?'\n",
    "# title_for_chart = \"Most popular tools for responsible ML\"\n",
    "# responsible_df_2022 = grab_subset_of_data(responses_df_2022, question_of_interest)\n",
    "# bar_chart_multiple_choice_multiple_selection(responsible_df_2022,title_for_chart,orientation='h')"
   ]
  },
  {
   "cell_type": "code",
   "execution_count": null,
   "metadata": {
    "execution": {
     "iopub.execute_input": "2022-10-06T13:51:26.655244Z",
     "iopub.status.busy": "2022-10-06T13:51:26.654918Z",
     "iopub.status.idle": "2022-10-06T13:51:26.87865Z",
     "shell.execute_reply": "2022-10-06T13:51:26.877567Z",
     "shell.execute_reply.started": "2022-10-06T13:51:26.655216Z"
    },
    "papermill": {
     "duration": 0.277389,
     "end_time": "2022-09-28T17:21:40.176884",
     "exception": false,
     "start_time": "2022-09-28T17:21:39.899495",
     "status": "completed"
    },
    "tags": []
   },
   "outputs": [],
   "source": [
    "# question_of_interest = 'Do you use any of the following types of specialized hardware when training machine learning models?'\n",
    "# title_for_chart = \"Most popular ML accelerators\"\n",
    "# hardware_df_2022 = grab_subset_of_data(responses_df_2022, question_of_interest)\n",
    "# bar_chart_multiple_choice_multiple_selection(hardware_df_2022,title_for_chart,orientation='h')"
   ]
  },
  {
   "cell_type": "code",
   "execution_count": null,
   "metadata": {
    "_kg_hide-input": true,
    "execution": {
     "iopub.execute_input": "2022-10-06T13:51:26.888004Z",
     "iopub.status.busy": "2022-10-06T13:51:26.887621Z",
     "iopub.status.idle": "2022-10-06T13:51:27.548121Z",
     "shell.execute_reply": "2022-10-06T13:51:27.54705Z",
     "shell.execute_reply.started": "2022-10-06T13:51:26.887972Z"
    },
    "papermill": {
     "duration": 0.653492,
     "end_time": "2022-09-28T17:21:40.877983",
     "exception": false,
     "start_time": "2022-09-28T17:21:40.224491",
     "status": "completed"
    },
    "tags": []
   },
   "outputs": [],
   "source": [
    "# question_of_interest_2022 = 'Do you use any of the following types of specialized hardware when training machine learning models?'\n",
    "# question_of_interest_2019 = 'Which types of specialized hardware do you use on a regular basis?'\n",
    "# responses_df_2019.columns = responses_df_2019.columns.str.replace(question_of_interest_2019, question_of_interest_2022,regex=False)\n",
    "# question_of_interest_2020 = 'Which types of specialized hardware do you use on a regular basis?'\n",
    "# responses_df_2020.columns = responses_df_2020.columns.str.replace(question_of_interest_2020, question_of_interest_2022,regex=False)\n",
    "# question_of_interest_2021 = 'Which types of specialized hardware do you use on a regular basis?'\n",
    "# responses_df_2021.columns = responses_df_2021.columns.str.replace(question_of_interest_2021, question_of_interest_2022,regex=False)\n",
    "\n",
    "# question_of_interest = question_of_interest_2022\n",
    "# title_for_chart = \"Most popular ML accelerators\"\n",
    "\n",
    "# hardware_df_2019 = grab_subset_of_data(responses_df_2019, question_of_interest)\n",
    "# counts_2019 = hardware_df_2019[hardware_df_2019.columns[:]].count().sort_values(ascending=True)\n",
    "# percentages_2019 = counts_2019*100/len(hardware_df_2019)\n",
    "# percentages_2019 = percentages_2019[['TPUs']]\n",
    "\n",
    "# hardware_df_2020 = grab_subset_of_data(responses_df_2020, question_of_interest)\n",
    "# counts_2020 = hardware_df_2020[hardware_df_2020.columns[:]].count().sort_values(ascending=True)\n",
    "# percentages_2020 = counts_2020*100/len(hardware_df_2020)\n",
    "# percentages_2020 = percentages_2020[['TPUs']]\n",
    "\n",
    "# hardware_df_2021 = grab_subset_of_data(responses_df_2021, question_of_interest)\n",
    "# counts_2021 = hardware_df_2021[hardware_df_2021.columns[:]].count().sort_values(ascending=True)\n",
    "# percentages_2021 = counts_2021*100/len(hardware_df_2021)\n",
    "# percentages_2021 = percentages_2021.rename({'Google Cloud TPUs ': 'TPUs','NVIDIA GPUs ' : 'GPUs'})\n",
    "# percentages_2021 = percentages_2021[['TPUs']]\n",
    "\n",
    "# hardware_df_2022 = grab_subset_of_data(responses_df_2022, question_of_interest)\n",
    "# counts_2022 = hardware_df_2022[hardware_df_2022.columns[:]].count().sort_values(ascending=True)\n",
    "# percentages_2022 = counts_2022*100/len(hardware_df_2022)\n",
    "# percentages_2022 = percentages_2022.rename({'TPUs ': 'TPUs','GPUs ': 'GPUs'})\n",
    "# percentages_2022 = percentages_2022[['TPUs']]\n",
    "\n",
    "# title_for_chart = 'Usage of Tensor Processing Units (TPUs) by Kagglers (2019-2022)'\n",
    "# title_for_y_axis = '% of respondents'\n",
    "\n",
    "# fig = go.Figure(data=[\n",
    "#     go.Bar(name='2019 Kaggle Survey', x=pd.Series(percentages_2019.keys()), y=pd.Series(percentages_2019.values),marker_color=px.colors.sequential.Blues[3]),\n",
    "#     go.Bar(name='2020 Kaggle Survey', x=pd.Series(percentages_2020.keys()), y=pd.Series(percentages_2020.values),marker_color=px.colors.sequential.Blues[4]),\n",
    "#     go.Bar(name='2021 Kaggle Survey', x=pd.Series(percentages_2021.keys()), y=pd.Series(percentages_2021.values),marker_color=px.colors.sequential.Blues[6]),\n",
    "#     go.Bar(name='2022 Kaggle Survey', x=pd.Series(percentages_2022.keys()), y=pd.Series(percentages_2022.values),marker_color=px.colors.sequential.Blues[7])])\n",
    "# fig.update_layout(barmode='group') \n",
    "# fig.update_layout(title=title_for_chart,yaxis=dict(title=title_for_y_axis))\n",
    "# fig.update_layout(template='ggplot2')\n",
    "# fig.show()\n",
    "# fig.write_html('F:/Referensi LCA/Python/dataset/working/individual/data/'+title_for_chart+'.html')\n",
    "# percentages_2019.to_csv('F:/Referensi LCA/Python/dataset/working/individual/data/2019_'+title_for_chart+'.csv',index=True)\n",
    "# percentages_2020.to_csv('F:/Referensi LCA/Python/dataset/working/individual/data/2020_'+title_for_chart+'.csv',index=True)\n",
    "# percentages_2021.to_csv('F:/Referensi LCA/Python/dataset/working/individual/data/2021_'+title_for_chart+'.csv',index=True)\n",
    "# percentages_2022.to_csv('F:/Referensi LCA/Python/dataset/working/individual/data/2022_'+title_for_chart+'.csv',index=True)"
   ]
  },
  {
   "cell_type": "code",
   "execution_count": null,
   "metadata": {
    "execution": {
     "iopub.execute_input": "2022-10-06T13:51:27.550394Z",
     "iopub.status.busy": "2022-10-06T13:51:27.549646Z",
     "iopub.status.idle": "2022-10-06T13:51:27.632517Z",
     "shell.execute_reply": "2022-10-06T13:51:27.631204Z",
     "shell.execute_reply.started": "2022-10-06T13:51:27.550349Z"
    },
    "papermill": {
     "duration": 0.132308,
     "end_time": "2022-09-28T17:21:41.0567",
     "exception": false,
     "start_time": "2022-09-28T17:21:40.924392",
     "status": "completed"
    },
    "tags": []
   },
   "outputs": [],
   "source": [
    "# question_of_interest = 'Approximately how many times have you used a TPU (tensor processing unit)?'\n",
    "# responses_in_order = ['Never',\n",
    "#                       'Once','2-5 times',\n",
    "#                       \"6-25 times\",\"More than 25 times\"]\n",
    "# percentages = count_then_return_percent(responses_df_2022,question_of_interest).sort_index()[responses_in_order]\n",
    "# title_for_chart = 'Popularity of Tensor Processing Units (TPUs)'\n",
    "# title_for_y_axis = '% of respondents'\n",
    "  \n",
    "# bar_chart_multiple_choice(response_counts=percentages,\n",
    "#                  title=title_for_chart,\n",
    "#                  y_axis_title=title_for_y_axis,\n",
    "#                  orientation=orientation_for_chart,\n",
    "#                  num_choices=5)  "
   ]
  },
  {
   "cell_type": "code",
   "execution_count": null,
   "metadata": {
    "_kg_hide-input": true,
    "execution": {
     "iopub.execute_input": "2022-10-06T13:51:27.634464Z",
     "iopub.status.busy": "2022-10-06T13:51:27.634078Z",
     "iopub.status.idle": "2022-10-06T13:51:27.759192Z",
     "shell.execute_reply": "2022-10-06T13:51:27.758001Z",
     "shell.execute_reply.started": "2022-10-06T13:51:27.634431Z"
    },
    "papermill": {
     "duration": 0.176246,
     "end_time": "2022-09-28T17:21:41.281734",
     "exception": false,
     "start_time": "2022-09-28T17:21:41.105488",
     "status": "completed"
    },
    "tags": []
   },
   "outputs": [],
   "source": [
    "# question_of_interest_2022 = 'Approximately how many times have you used a TPU (tensor processing unit)?'\n",
    "# question_of_interest_2019 = 'Have you ever used a TPU (tensor processing unit)?'\n",
    "# responses_df_2019[question_of_interest_2019] = responses_df_2019[question_of_interest_2019].str.replace(\"6-24 times\",\"6-25 times\",regex=False)\n",
    "# responses_df_2019[question_of_interest_2019] = responses_df_2019[question_of_interest_2019].str.replace(\"> 25 times\",\"More than 25 times\",regex=False)\n",
    "# responses_df_2019.columns = responses_df_2019.columns.str.replace(question_of_interest_2019, question_of_interest_2022,regex=False)\n",
    "\n",
    "# question_of_interest = question_of_interest_2022\n",
    "# df_2022 = pd.DataFrame(count_then_return_percent(responses_df_2022,question_of_interest).sort_index())\n",
    "# df_2021 = pd.DataFrame(count_then_return_percent(responses_df_2021,question_of_interest).sort_index())\n",
    "# df_2020 = pd.DataFrame(count_then_return_percent(responses_df_2020,question_of_interest).sort_index())\n",
    "# df_2019 = pd.DataFrame(count_then_return_percent(responses_df_2019,question_of_interest).sort_index())\n",
    "\n",
    "# df_2022['year'] = '2022'\n",
    "# df_2021['year'] = '2021'\n",
    "# df_2020['year'] = '2020'\n",
    "# df_2019['year'] = '2019'\n",
    "\n",
    "# df_combined = pd.concat(\n",
    "#             [df_2019,\n",
    "#             df_2020,\n",
    "#             df_2021,\n",
    "#             df_2022])\n",
    "\n",
    "# df_combined[x_axis_title] = df_combined.index\n",
    "# x_axis_title = 'Frequency of TPU usage'\n",
    "# df_combined.columns = ['percentage','year',x_axis_title]\n",
    "\n",
    "# question_of_interest = question_of_interest_2022\n",
    "# column_of_interest = 'percentage'\n",
    "# title_for_chart = 'Frequency of TPU usage for Kagglers (2019-2022)'\n",
    "# title_for_x_axis = x_axis_title\n",
    "# title_for_y_axis = '% of respondents'\n",
    "# df_combined = df_combined.sort_values(by=['year','percentage'], ascending=True)\n",
    "\n",
    "# bar_chart_multiple_years(df_combined,\n",
    "#                                    title_for_x_axis,\n",
    "#                                    column_of_interest,\n",
    "#                                    title_for_chart,\n",
    "#                                    title_for_y_axis)"
   ]
  },
  {
   "cell_type": "code",
   "execution_count": null,
   "metadata": {
    "execution": {
     "iopub.execute_input": "2022-10-06T13:51:27.760893Z",
     "iopub.status.busy": "2022-10-06T13:51:27.760563Z",
     "iopub.status.idle": "2022-10-06T13:51:28.015735Z",
     "shell.execute_reply": "2022-10-06T13:51:28.014243Z",
     "shell.execute_reply.started": "2022-10-06T13:51:27.760863Z"
    },
    "papermill": {
     "duration": 0.301264,
     "end_time": "2022-09-28T17:21:41.631548",
     "exception": false,
     "start_time": "2022-09-28T17:21:41.330284",
     "status": "completed"
    },
    "tags": []
   },
   "outputs": [],
   "source": [
    "# question_of_interest = 'Who/what are your favorite media sources that report on data science topics?'\n",
    "# title_for_chart = \"Most popular data science media sources\"\n",
    "# media_df_2022 = grab_subset_of_data(responses_df_2022, question_of_interest)\n",
    "# bar_chart_multiple_choice_multiple_selection(media_df_2022,title_for_chart,orientation='h')"
   ]
  },
  {
   "cell_type": "code",
   "execution_count": null,
   "metadata": {
    "_kg_hide-input": true,
    "execution": {
     "iopub.execute_input": "2022-10-06T13:51:28.018798Z",
     "iopub.status.busy": "2022-10-06T13:51:28.01808Z",
     "iopub.status.idle": "2022-10-06T13:51:28.028528Z",
     "shell.execute_reply": "2022-10-06T13:51:28.027048Z",
     "shell.execute_reply.started": "2022-10-06T13:51:28.018752Z"
    },
    "papermill": {
     "duration": 0.060124,
     "end_time": "2022-09-28T17:21:41.739207",
     "exception": false,
     "start_time": "2022-09-28T17:21:41.679083",
     "status": "completed"
    },
    "tags": []
   },
   "outputs": [],
   "source": [
    "# print('Total Number of Responses 2017: ',responses_df_2017.shape[0])\n",
    "# print('Total Number of Responses 2018: ',responses_df_2018.shape[0])\n",
    "# print('Total Number of Responses 2019: ',responses_df_2019.shape[0])\n",
    "# print('Total Number of Responses 2020: ',responses_df_2020.shape[0])\n",
    "# print('Total Number of Responses 2021: ',responses_df_2021.shape[0])\n",
    "# print('Total Number of Responses 2022: ',responses_df_2022.shape[0])\n",
    "# print('/nNote that survey response counts are influenced by many different factors')\n",
    "# print('If discussing the size of the Kaggle community, consider using the daily updated data ')\n",
    "# print('from the Kaggle Meta Kaggle dataset instead (see chart below)')"
   ]
  },
  {
   "cell_type": "code",
   "execution_count": null,
   "metadata": {
    "_kg_hide-input": true,
    "execution": {
     "iopub.execute_input": "2022-10-06T13:51:28.03045Z",
     "iopub.status.busy": "2022-10-06T13:51:28.030098Z",
     "iopub.status.idle": "2022-10-06T13:52:02.002831Z",
     "shell.execute_reply": "2022-10-06T13:52:02.001842Z",
     "shell.execute_reply.started": "2022-10-06T13:51:28.03042Z"
    },
    "papermill": {
     "duration": 42.918972,
     "end_time": "2022-09-28T17:22:24.705562",
     "exception": false,
     "start_time": "2022-09-28T17:21:41.78659",
     "status": "completed"
    },
    "tags": []
   },
   "outputs": [],
   "source": [
    "# users = pd.read_csv(\"/kaggle/input/meta-kaggle/Users.csv\")\n",
    "# print('In 2022 there were more than 10 million registered users on Kaggle: ',users['Id'].nunique())\n",
    "\n",
    "# users['RegisterDate'] = pd.to_datetime(users['RegisterDate'])\n",
    "# users_in_2016 = users[users['RegisterDate'] < '09/01/2016']\n",
    "# users_in_2017 = users[users['RegisterDate'] < '09/01/2017']\n",
    "# users_in_2018 = users[users['RegisterDate'] < '09/01/2018']\n",
    "# users_in_2019 = users[users['RegisterDate'] < '09/01/2019']\n",
    "# users_in_2020 = users[users['RegisterDate'] < '09/01/2020']\n",
    "# users_in_2021 = users[users['RegisterDate'] < '09/01/2021']\n",
    "# users_in_2022 = users[users['RegisterDate'] < '09/01/2022']\n",
    "\n",
    "# new_users_in_12_months_prior_survey_2017 = users_in_2017['Id'].nunique()-users_in_2016['Id'].nunique()\n",
    "# new_users_in_12_months_prior_survey_2018 = users_in_2018['Id'].nunique()-users_in_2017['Id'].nunique()\n",
    "# new_users_in_12_months_prior_survey_2019 = users_in_2019['Id'].nunique()-users_in_2018['Id'].nunique()\n",
    "# new_users_in_12_months_prior_survey_2020 = users_in_2020['Id'].nunique()-users_in_2019['Id'].nunique()\n",
    "# new_users_in_12_months_prior_survey_2021 = users_in_2021['Id'].nunique()-users_in_2020['Id'].nunique()\n",
    "# new_users_in_12_months_prior_survey_2022 = users_in_2022['Id'].nunique()-users_in_2021['Id'].nunique()\n",
    "\n",
    "# df = pd.DataFrame({'New users in the 12 months prior to September': [new_users_in_12_months_prior_survey_2017, \n",
    "#                                  new_users_in_12_months_prior_survey_2018, \n",
    "#                                  new_users_in_12_months_prior_survey_2019, \n",
    "#                                  new_users_in_12_months_prior_survey_2020, \n",
    "#                                  new_users_in_12_months_prior_survey_2021,\n",
    "#                                  new_users_in_12_months_prior_survey_2022],\n",
    "#                  'Survey Year': ['2017','2018','2019','2020','2021','2022']})"
   ]
  },
  {
   "cell_type": "code",
   "execution_count": null,
   "metadata": {
    "_kg_hide-input": true,
    "execution": {
     "iopub.execute_input": "2022-10-06T13:52:02.005188Z",
     "iopub.status.busy": "2022-10-06T13:52:02.004182Z",
     "iopub.status.idle": "2022-10-06T13:52:02.085756Z",
     "shell.execute_reply": "2022-10-06T13:52:02.084549Z",
     "shell.execute_reply.started": "2022-10-06T13:52:02.005152Z"
    },
    "papermill": {
     "duration": 0.161221,
     "end_time": "2022-09-28T17:22:24.927522",
     "exception": false,
     "start_time": "2022-09-28T17:22:24.766301",
     "status": "completed"
    },
    "tags": []
   },
   "outputs": [],
   "source": [
    "# fig = px.line(df, x=\"Survey Year\", y=\"New users in the 12 months prior to September\", title='Yearly Kaggle account registrations 2017-2022')\n",
    "# fig.show()"
   ]
  },
  {
   "cell_type": "code",
   "execution_count": null,
   "metadata": {
    "_kg_hide-input": true,
    "execution": {
     "iopub.execute_input": "2022-10-06T14:38:13.043581Z",
     "iopub.status.busy": "2022-10-06T14:38:13.042381Z",
     "iopub.status.idle": "2022-10-06T14:38:50.925386Z",
     "shell.execute_reply": "2022-10-06T14:38:50.924056Z",
     "shell.execute_reply.started": "2022-10-06T14:38:13.043521Z"
    }
   },
   "outputs": [],
   "source": [
    "# # Plot a histogram of user response times \n",
    "# responses_only_duration = responses_df_2022['Duration (in seconds)']\n",
    "# responses_only_duration = pd.DataFrame(pd.to_numeric(responses_only_duration, errors='coerce')/60)\n",
    "# responses_only_duration.columns = ['Duration (in minutes)']\n",
    "# sns.displot(responses_only_duration,bins=15000).set(xlim=(0, 60))\n",
    "# median = round(responses_only_duration['Duration (in minutes)'].median(),0)\n",
    "# print('The median response time was approximately',median,'minutes.')\n",
    "# responses_only_duration_longer_5m = responses_only_duration[responses_only_duration['Duration (in minutes)'] > 5]  \n",
    "# print('The total number of respondents that took more than 5 minutes was',responses_only_duration_longer_5m.shape[0],'out of',responses_df_2022.shape[0])\n"
   ]
  },
  {
   "cell_type": "markdown",
   "metadata": {
    "papermill": {
     "duration": 0.049502,
     "end_time": "2022-09-28T17:22:25.026735",
     "exception": false,
     "start_time": "2022-09-28T17:22:24.977233",
     "status": "completed"
    },
    "tags": []
   },
   "source": [
    "**Future directions to consider:**\n",
    "* Divide the population into interesting subgroups and identify interesting insights.\n",
    "\n",
    " * Do students have different preferences as compared to professionals?\n",
    " * Do GCP customers have different preferences as compared to AWS customers?\n",
    " * Which cloud computing platforms have seen the most growth in recent years?\n",
    " * Do salaries scale according to experience levels?  What traits might predict having a very high salary?\n",
    "\n"
   ]
  },
  {
   "cell_type": "markdown",
   "metadata": {
    "papermill": {
     "duration": 0.049429,
     "end_time": "2022-09-28T17:22:25.126102",
     "exception": false,
     "start_time": "2022-09-28T17:22:25.076673",
     "status": "completed"
    },
    "tags": []
   },
   "source": [
    "**Credits / Attribution:**\n",
    "\n",
    "* The idea to use pattern matching to identify which columns are associated with which questions came from @siddhantsadangi's notebook [\"Your Country VS The World\"](https://www.kaggle.com/siddhantsadangi/your-country-vs-the-world-24-factors-wip) (see function grab_subset_of_data() for more detail).\n",
    "* Most plotting functions were adapted from examples in the [plotly documentation](https://plotly.com/python/plotly-express/).\n",
    "* This notebook (and every other public notebook on Kaggle) was released under an [Apache 2.0 license](https://www.apache.org/licenses/LICENSE-2.0). Consider clicking on the \"copy & edit\" button in the top right corner and then you can focus on some subset of the community that you find to be interesting!"
   ]
  },
  {
   "cell_type": "code",
   "execution_count": null,
   "metadata": {
    "_kg_hide-input": true,
    "_kg_hide-output": false,
    "execution": {
     "iopub.execute_input": "2022-10-06T13:52:02.087487Z",
     "iopub.status.busy": "2022-10-06T13:52:02.087154Z",
     "iopub.status.idle": "2022-10-06T13:52:09.428032Z",
     "shell.execute_reply": "2022-10-06T13:52:09.426355Z",
     "shell.execute_reply.started": "2022-10-06T13:52:02.087459Z"
    },
    "papermill": {
     "duration": 7.627465,
     "end_time": "2022-09-28T17:22:32.803437",
     "exception": false,
     "start_time": "2022-09-28T17:22:25.175972",
     "status": "completed"
    },
    "tags": []
   },
   "outputs": [],
   "source": [
    "# !mkdir /kaggle/working/docker/\n",
    "# !pip freeze > '/kaggle/working/docker/requirements.txt'\n",
    "# print('This notebook makes use of /nthe following Python libraries:/n')\n",
    "# print('numpy:',np.__version__)\n",
    "# print('pandas:',pd.__version__)\n",
    "# print('seaborn:',sns.__version__)\n",
    "# import plotly_express as px\n",
    "# print('plotly express:',px.__version__)"
   ]
  },
  {
   "cell_type": "code",
   "execution_count": null,
   "metadata": {
    "papermill": {
     "duration": 0.048816,
     "end_time": "2022-09-28T17:22:32.901262",
     "exception": false,
     "start_time": "2022-09-28T17:22:32.852446",
     "status": "completed"
    },
    "tags": []
   },
   "outputs": [],
   "source": []
  }
 ],
 "metadata": {
  "kernelspec": {
   "display_name": "Python 3 (ipykernel)",
   "language": "python",
   "name": "python3"
  },
  "language_info": {
   "codemirror_mode": {
    "name": "ipython",
    "version": 3
   },
   "file_extension": ".py",
   "mimetype": "text/x-python",
   "name": "python",
   "nbconvert_exporter": "python",
   "pygments_lexer": "ipython3",
   "version": "3.11.1"
  },
  "vscode": {
   "interpreter": {
    "hash": "85966d29fbc8a29671a66dc50b54b46c43eca221557580e5978ff6ad0876b915"
   }
  }
 },
 "nbformat": 4,
 "nbformat_minor": 4
}
